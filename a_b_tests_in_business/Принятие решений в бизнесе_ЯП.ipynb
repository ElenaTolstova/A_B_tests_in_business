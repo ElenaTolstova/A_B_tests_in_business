{
 "cells": [
  {
   "cell_type": "markdown",
   "metadata": {},
   "source": [
    "<div style=\"border: solid blue 2px; padding: 20px\">\n",
    "    \n",
    "# Исследование гипотез для увеличения выручки крупного интернет-магазина.\n",
    "\n",
    "Суть проекта: мы — аналитики крупного интернет-магазина. Вместе с отделом маркетинга мы подготовили список гипотез для увеличения выручки. Нам предстоит их приоритизировать, запустить A/B-тест и проанализировать результаты. \n",
    "\n",
    "**Описание данных**\n",
    "\n",
    "*Данные для первой части:*\n",
    "\n",
    "Файл /datasets/hypothesis.csv (гипотезы по увеличению выручки интернет-магазина):\n",
    "- `Hypothesis` — краткое описание гипотезы;\n",
    "- `Reach` — охват пользователей по 10-балльной шкале;\n",
    "- `Impact` — влияние на пользователей по 10-балльной шкале;\n",
    "- `Confidence` — уверенность в гипотезе по 10-балльной шкале;\n",
    "- `Efforts` — затраты ресурсов на проверку гипотезы по 10-балльной шкале.\n",
    "Чем больше значение Efforts, тем дороже проверка гипотезы.\n",
    "\n",
    "*Данные для второй части:*\n",
    "\n",
    "Файл /datasets/orders.csv (результаты A/B-теста):\n",
    "- `transactionId` — идентификатор заказа;\n",
    "- `visitorId` — идентификатор пользователя, совершившего заказ;\n",
    "- `date` — дата, когда был совершён заказ;\n",
    "- `revenue` — выручка заказа;\n",
    "- `group` — группа A/B-теста, в которую попал заказ.\n",
    "\n",
    "Файл /datasets/visitors.csv (результаты A/B-теста):\n",
    "- `date` — дата;\n",
    "- `group` — группа A/B-теста;\n",
    "- `visitors` — количество пользователей в указанную дату в указанной группе A/B-теста\n",
    "\n",
    "---\n",
    "    \n",
    "**Ход исследования**\n",
    "    \n",
    "Данные получим из трех файлов: hypothesis.csv, orders.csv и visitors.csv. О качестве датасета информации нет. Перед тем как приступать к цели исследования, нам необходимо изучить данные.\n",
    "    \n",
    "Проверим данные на предмет ошибок и оценим их влияние на результаты исследования. В процессе преодобработки данных попробуем исправить все ошибки, которые могут привести к искажению конечного результата. Далее мы приоритизируем гипотезы и выводы на подходящих графиках и приступим к анализу результатов А/В теста и выявлению закономерностей.\n",
    "    \n",
    "Таким образом, мое исследование пройдет в следующие этапы:\n",
    "    \n",
    "- Загрузка и предобработка данных.\n",
    "- Приоритизация гипотез с помощью фреймворков ICE и RICE.\n",
    "- Изучение результатов проведенного А/В теста.\n",
    "- Построение необходимых для исследования графиков.\n",
    "- Подсчет статистической значимости.\n",
    "- Принятие решения по результатам А/В теста.\n",
    "- Формулирование выводов и рекомендаций."
   ]
  },
  {
   "cell_type": "markdown",
   "metadata": {},
   "source": [
    "# Загрузка данных и изучение общей информации"
   ]
  },
  {
   "cell_type": "markdown",
   "metadata": {},
   "source": [
    "### 1.1. Считаем CSV-файлы с данными с помощью библиотеки pandas и сохраним их в датафреймы."
   ]
  },
  {
   "cell_type": "markdown",
   "metadata": {},
   "source": [
    "Импортируем необходимые нам библиотеки для изучения общей информации и предобработки данных."
   ]
  },
  {
   "cell_type": "code",
   "execution_count": 5,
   "metadata": {},
   "outputs": [],
   "source": [
    "import pandas as pd\n",
    "import numpy as np\n",
    "import datetime as dt\n",
    "import matplotlib.pyplot as plt\n",
    "import seaborn as sns\n",
    "\n",
    "pd.options.display.max_colwidth = 120\n",
    "import warnings\n",
    "warnings.filterwarnings('ignore')"
   ]
  },
  {
   "cell_type": "markdown",
   "metadata": {},
   "source": [
    "Сохраним файлы с данными в датафреймы."
   ]
  },
  {
   "cell_type": "code",
   "execution_count": 7,
   "metadata": {},
   "outputs": [],
   "source": [
    "try:\n",
    "    hyps = pd.read_csv('/datasets/hypothesis.csv')\n",
    "except:\n",
    "    hyps = pd.read_csv('C:/Users/etols/Downloads/hypothesis.csv')"
   ]
  },
  {
   "cell_type": "code",
   "execution_count": 8,
   "metadata": {},
   "outputs": [],
   "source": [
    "try:\n",
    "    orders = pd.read_csv('/datasets/orders.csv')\n",
    "except:\n",
    "    orders = pd.read_csv('C:/Users/etols/Downloads/orders.csv')"
   ]
  },
  {
   "cell_type": "code",
   "execution_count": 9,
   "metadata": {},
   "outputs": [],
   "source": [
    "try:\n",
    "    visitors = pd.read_csv('/datasets/visitors.csv')\n",
    "except:\n",
    "    visitors = pd.read_csv('C:/Users/etols/Downloads/visitors.csv')"
   ]
  },
  {
   "cell_type": "markdown",
   "metadata": {},
   "source": [
    "### 1.2. Изучим общую информацию по каждому датафрейму и проведем первичную предобработку данных."
   ]
  },
  {
   "cell_type": "markdown",
   "metadata": {},
   "source": [
    "Напишем функцию для проведения первичной предобработки данных для каждого датасета."
   ]
  },
  {
   "cell_type": "code",
   "execution_count": 171,
   "metadata": {},
   "outputs": [],
   "source": [
    "def review(data):\n",
    "    print(data.info())\n",
    "    print('--------------------')\n",
    "    display(data.head())\n",
    "    print('--------------------')\n",
    "    display(data.describe())\n",
    "    print('--------------------')\n",
    "    print(data.isna().sum())\n",
    "    print('--------------------')\n",
    "    print('Дубликатов в данных:', data.duplicated().sum())"
   ]
  },
  {
   "cell_type": "code",
   "execution_count": 13,
   "metadata": {},
   "outputs": [
    {
     "name": "stdout",
     "output_type": "stream",
     "text": [
      "<class 'pandas.core.frame.DataFrame'>\n",
      "RangeIndex: 9 entries, 0 to 8\n",
      "Data columns (total 5 columns):\n",
      " #   Column      Non-Null Count  Dtype \n",
      "---  ------      --------------  ----- \n",
      " 0   Hypothesis  9 non-null      object\n",
      " 1   Reach       9 non-null      int64 \n",
      " 2   Impact      9 non-null      int64 \n",
      " 3   Confidence  9 non-null      int64 \n",
      " 4   Efforts     9 non-null      int64 \n",
      "dtypes: int64(4), object(1)\n",
      "memory usage: 492.0+ bytes\n",
      "None\n",
      "--------------------\n"
     ]
    },
    {
     "data": {
      "text/html": [
       "<div>\n",
       "<style scoped>\n",
       "    .dataframe tbody tr th:only-of-type {\n",
       "        vertical-align: middle;\n",
       "    }\n",
       "\n",
       "    .dataframe tbody tr th {\n",
       "        vertical-align: top;\n",
       "    }\n",
       "\n",
       "    .dataframe thead th {\n",
       "        text-align: right;\n",
       "    }\n",
       "</style>\n",
       "<table border=\"1\" class=\"dataframe\">\n",
       "  <thead>\n",
       "    <tr style=\"text-align: right;\">\n",
       "      <th></th>\n",
       "      <th>Hypothesis</th>\n",
       "      <th>Reach</th>\n",
       "      <th>Impact</th>\n",
       "      <th>Confidence</th>\n",
       "      <th>Efforts</th>\n",
       "    </tr>\n",
       "  </thead>\n",
       "  <tbody>\n",
       "    <tr>\n",
       "      <th>0</th>\n",
       "      <td>Добавить два новых канала привлечения трафика, что позволит привлекать на 30% больше пользователей</td>\n",
       "      <td>3</td>\n",
       "      <td>10</td>\n",
       "      <td>8</td>\n",
       "      <td>6</td>\n",
       "    </tr>\n",
       "    <tr>\n",
       "      <th>1</th>\n",
       "      <td>Запустить собственную службу доставки, что сократит срок доставки заказов</td>\n",
       "      <td>2</td>\n",
       "      <td>5</td>\n",
       "      <td>4</td>\n",
       "      <td>10</td>\n",
       "    </tr>\n",
       "    <tr>\n",
       "      <th>2</th>\n",
       "      <td>Добавить блоки рекомендаций товаров на сайт интернет магазина, чтобы повысить конверсию и средний чек заказа</td>\n",
       "      <td>8</td>\n",
       "      <td>3</td>\n",
       "      <td>7</td>\n",
       "      <td>3</td>\n",
       "    </tr>\n",
       "    <tr>\n",
       "      <th>3</th>\n",
       "      <td>Изменить структура категорий, что увеличит конверсию, т.к. пользователи быстрее найдут нужный товар</td>\n",
       "      <td>8</td>\n",
       "      <td>3</td>\n",
       "      <td>3</td>\n",
       "      <td>8</td>\n",
       "    </tr>\n",
       "    <tr>\n",
       "      <th>4</th>\n",
       "      <td>Изменить цвет фона главной страницы, чтобы увеличить вовлеченность пользователей</td>\n",
       "      <td>3</td>\n",
       "      <td>1</td>\n",
       "      <td>1</td>\n",
       "      <td>1</td>\n",
       "    </tr>\n",
       "  </tbody>\n",
       "</table>\n",
       "</div>"
      ],
      "text/plain": [
       "                                                                                                     Hypothesis  \\\n",
       "0            Добавить два новых канала привлечения трафика, что позволит привлекать на 30% больше пользователей   \n",
       "1                                     Запустить собственную службу доставки, что сократит срок доставки заказов   \n",
       "2  Добавить блоки рекомендаций товаров на сайт интернет магазина, чтобы повысить конверсию и средний чек заказа   \n",
       "3           Изменить структура категорий, что увеличит конверсию, т.к. пользователи быстрее найдут нужный товар   \n",
       "4                              Изменить цвет фона главной страницы, чтобы увеличить вовлеченность пользователей   \n",
       "\n",
       "   Reach  Impact  Confidence  Efforts  \n",
       "0      3      10           8        6  \n",
       "1      2       5           4       10  \n",
       "2      8       3           7        3  \n",
       "3      8       3           3        8  \n",
       "4      3       1           1        1  "
      ]
     },
     "metadata": {},
     "output_type": "display_data"
    },
    {
     "name": "stdout",
     "output_type": "stream",
     "text": [
      "--------------------\n"
     ]
    },
    {
     "data": {
      "text/html": [
       "<div>\n",
       "<style scoped>\n",
       "    .dataframe tbody tr th:only-of-type {\n",
       "        vertical-align: middle;\n",
       "    }\n",
       "\n",
       "    .dataframe tbody tr th {\n",
       "        vertical-align: top;\n",
       "    }\n",
       "\n",
       "    .dataframe thead th {\n",
       "        text-align: right;\n",
       "    }\n",
       "</style>\n",
       "<table border=\"1\" class=\"dataframe\">\n",
       "  <thead>\n",
       "    <tr style=\"text-align: right;\">\n",
       "      <th></th>\n",
       "      <th>Reach</th>\n",
       "      <th>Impact</th>\n",
       "      <th>Confidence</th>\n",
       "      <th>Efforts</th>\n",
       "    </tr>\n",
       "  </thead>\n",
       "  <tbody>\n",
       "    <tr>\n",
       "      <th>count</th>\n",
       "      <td>9.000000</td>\n",
       "      <td>9.000000</td>\n",
       "      <td>9.000000</td>\n",
       "      <td>9.000000</td>\n",
       "    </tr>\n",
       "    <tr>\n",
       "      <th>mean</th>\n",
       "      <td>4.777778</td>\n",
       "      <td>4.777778</td>\n",
       "      <td>5.555556</td>\n",
       "      <td>4.888889</td>\n",
       "    </tr>\n",
       "    <tr>\n",
       "      <th>std</th>\n",
       "      <td>3.153481</td>\n",
       "      <td>3.192874</td>\n",
       "      <td>3.045944</td>\n",
       "      <td>2.803767</td>\n",
       "    </tr>\n",
       "    <tr>\n",
       "      <th>min</th>\n",
       "      <td>1.000000</td>\n",
       "      <td>1.000000</td>\n",
       "      <td>1.000000</td>\n",
       "      <td>1.000000</td>\n",
       "    </tr>\n",
       "    <tr>\n",
       "      <th>25%</th>\n",
       "      <td>3.000000</td>\n",
       "      <td>3.000000</td>\n",
       "      <td>3.000000</td>\n",
       "      <td>3.000000</td>\n",
       "    </tr>\n",
       "    <tr>\n",
       "      <th>50%</th>\n",
       "      <td>3.000000</td>\n",
       "      <td>3.000000</td>\n",
       "      <td>7.000000</td>\n",
       "      <td>5.000000</td>\n",
       "    </tr>\n",
       "    <tr>\n",
       "      <th>75%</th>\n",
       "      <td>8.000000</td>\n",
       "      <td>7.000000</td>\n",
       "      <td>8.000000</td>\n",
       "      <td>6.000000</td>\n",
       "    </tr>\n",
       "    <tr>\n",
       "      <th>max</th>\n",
       "      <td>10.000000</td>\n",
       "      <td>10.000000</td>\n",
       "      <td>9.000000</td>\n",
       "      <td>10.000000</td>\n",
       "    </tr>\n",
       "  </tbody>\n",
       "</table>\n",
       "</div>"
      ],
      "text/plain": [
       "           Reach     Impact  Confidence    Efforts\n",
       "count   9.000000   9.000000    9.000000   9.000000\n",
       "mean    4.777778   4.777778    5.555556   4.888889\n",
       "std     3.153481   3.192874    3.045944   2.803767\n",
       "min     1.000000   1.000000    1.000000   1.000000\n",
       "25%     3.000000   3.000000    3.000000   3.000000\n",
       "50%     3.000000   3.000000    7.000000   5.000000\n",
       "75%     8.000000   7.000000    8.000000   6.000000\n",
       "max    10.000000  10.000000    9.000000  10.000000"
      ]
     },
     "metadata": {},
     "output_type": "display_data"
    },
    {
     "name": "stdout",
     "output_type": "stream",
     "text": [
      "--------------------\n",
      "Hypothesis    0\n",
      "Reach         0\n",
      "Impact        0\n",
      "Confidence    0\n",
      "Efforts       0\n",
      "dtype: int64\n",
      "--------------------\n",
      "Дубликатов в данных: 0\n"
     ]
    }
   ],
   "source": [
    "review(hyps)"
   ]
  },
  {
   "cell_type": "markdown",
   "metadata": {},
   "source": [
    "Сразу видим, что названия столбцов в датафрейме hyps указаны с большой буквы, приведем их к нижнему регистру."
   ]
  },
  {
   "cell_type": "code",
   "execution_count": 15,
   "metadata": {},
   "outputs": [
    {
     "data": {
      "text/html": [
       "<div>\n",
       "<style scoped>\n",
       "    .dataframe tbody tr th:only-of-type {\n",
       "        vertical-align: middle;\n",
       "    }\n",
       "\n",
       "    .dataframe tbody tr th {\n",
       "        vertical-align: top;\n",
       "    }\n",
       "\n",
       "    .dataframe thead th {\n",
       "        text-align: right;\n",
       "    }\n",
       "</style>\n",
       "<table border=\"1\" class=\"dataframe\">\n",
       "  <thead>\n",
       "    <tr style=\"text-align: right;\">\n",
       "      <th></th>\n",
       "      <th>hypothesis</th>\n",
       "      <th>reach</th>\n",
       "      <th>impact</th>\n",
       "      <th>confidence</th>\n",
       "      <th>efforts</th>\n",
       "    </tr>\n",
       "  </thead>\n",
       "  <tbody>\n",
       "    <tr>\n",
       "      <th>4</th>\n",
       "      <td>Изменить цвет фона главной страницы, чтобы увеличить вовлеченность пользователей</td>\n",
       "      <td>3</td>\n",
       "      <td>1</td>\n",
       "      <td>1</td>\n",
       "      <td>1</td>\n",
       "    </tr>\n",
       "  </tbody>\n",
       "</table>\n",
       "</div>"
      ],
      "text/plain": [
       "                                                                         hypothesis  \\\n",
       "4  Изменить цвет фона главной страницы, чтобы увеличить вовлеченность пользователей   \n",
       "\n",
       "   reach  impact  confidence  efforts  \n",
       "4      3       1           1        1  "
      ]
     },
     "execution_count": 15,
     "metadata": {},
     "output_type": "execute_result"
    }
   ],
   "source": [
    "hyps.columns = [x.lower().replace(' ', '_') for x in hyps.columns.values]\n",
    "hyps.sample()"
   ]
  },
  {
   "cell_type": "code",
   "execution_count": 16,
   "metadata": {},
   "outputs": [
    {
     "name": "stdout",
     "output_type": "stream",
     "text": [
      "<class 'pandas.core.frame.DataFrame'>\n",
      "RangeIndex: 1197 entries, 0 to 1196\n",
      "Data columns (total 5 columns):\n",
      " #   Column         Non-Null Count  Dtype \n",
      "---  ------         --------------  ----- \n",
      " 0   transactionId  1197 non-null   int64 \n",
      " 1   visitorId      1197 non-null   int64 \n",
      " 2   date           1197 non-null   object\n",
      " 3   revenue        1197 non-null   int64 \n",
      " 4   group          1197 non-null   object\n",
      "dtypes: int64(3), object(2)\n",
      "memory usage: 46.9+ KB\n",
      "None\n",
      "--------------------\n"
     ]
    },
    {
     "data": {
      "text/html": [
       "<div>\n",
       "<style scoped>\n",
       "    .dataframe tbody tr th:only-of-type {\n",
       "        vertical-align: middle;\n",
       "    }\n",
       "\n",
       "    .dataframe tbody tr th {\n",
       "        vertical-align: top;\n",
       "    }\n",
       "\n",
       "    .dataframe thead th {\n",
       "        text-align: right;\n",
       "    }\n",
       "</style>\n",
       "<table border=\"1\" class=\"dataframe\">\n",
       "  <thead>\n",
       "    <tr style=\"text-align: right;\">\n",
       "      <th></th>\n",
       "      <th>transactionId</th>\n",
       "      <th>visitorId</th>\n",
       "      <th>date</th>\n",
       "      <th>revenue</th>\n",
       "      <th>group</th>\n",
       "    </tr>\n",
       "  </thead>\n",
       "  <tbody>\n",
       "    <tr>\n",
       "      <th>0</th>\n",
       "      <td>3667963787</td>\n",
       "      <td>3312258926</td>\n",
       "      <td>2019-08-15</td>\n",
       "      <td>1650</td>\n",
       "      <td>B</td>\n",
       "    </tr>\n",
       "    <tr>\n",
       "      <th>1</th>\n",
       "      <td>2804400009</td>\n",
       "      <td>3642806036</td>\n",
       "      <td>2019-08-15</td>\n",
       "      <td>730</td>\n",
       "      <td>B</td>\n",
       "    </tr>\n",
       "    <tr>\n",
       "      <th>2</th>\n",
       "      <td>2961555356</td>\n",
       "      <td>4069496402</td>\n",
       "      <td>2019-08-15</td>\n",
       "      <td>400</td>\n",
       "      <td>A</td>\n",
       "    </tr>\n",
       "    <tr>\n",
       "      <th>3</th>\n",
       "      <td>3797467345</td>\n",
       "      <td>1196621759</td>\n",
       "      <td>2019-08-15</td>\n",
       "      <td>9759</td>\n",
       "      <td>B</td>\n",
       "    </tr>\n",
       "    <tr>\n",
       "      <th>4</th>\n",
       "      <td>2282983706</td>\n",
       "      <td>2322279887</td>\n",
       "      <td>2019-08-15</td>\n",
       "      <td>2308</td>\n",
       "      <td>B</td>\n",
       "    </tr>\n",
       "  </tbody>\n",
       "</table>\n",
       "</div>"
      ],
      "text/plain": [
       "   transactionId   visitorId        date  revenue group\n",
       "0     3667963787  3312258926  2019-08-15     1650     B\n",
       "1     2804400009  3642806036  2019-08-15      730     B\n",
       "2     2961555356  4069496402  2019-08-15      400     A\n",
       "3     3797467345  1196621759  2019-08-15     9759     B\n",
       "4     2282983706  2322279887  2019-08-15     2308     B"
      ]
     },
     "metadata": {},
     "output_type": "display_data"
    },
    {
     "name": "stdout",
     "output_type": "stream",
     "text": [
      "--------------------\n"
     ]
    },
    {
     "data": {
      "text/html": [
       "<div>\n",
       "<style scoped>\n",
       "    .dataframe tbody tr th:only-of-type {\n",
       "        vertical-align: middle;\n",
       "    }\n",
       "\n",
       "    .dataframe tbody tr th {\n",
       "        vertical-align: top;\n",
       "    }\n",
       "\n",
       "    .dataframe thead th {\n",
       "        text-align: right;\n",
       "    }\n",
       "</style>\n",
       "<table border=\"1\" class=\"dataframe\">\n",
       "  <thead>\n",
       "    <tr style=\"text-align: right;\">\n",
       "      <th></th>\n",
       "      <th>transactionId</th>\n",
       "      <th>visitorId</th>\n",
       "      <th>revenue</th>\n",
       "    </tr>\n",
       "  </thead>\n",
       "  <tbody>\n",
       "    <tr>\n",
       "      <th>count</th>\n",
       "      <td>1.197000e+03</td>\n",
       "      <td>1.197000e+03</td>\n",
       "      <td>1.197000e+03</td>\n",
       "    </tr>\n",
       "    <tr>\n",
       "      <th>mean</th>\n",
       "      <td>2.155621e+09</td>\n",
       "      <td>2.165960e+09</td>\n",
       "      <td>8.348006e+03</td>\n",
       "    </tr>\n",
       "    <tr>\n",
       "      <th>std</th>\n",
       "      <td>1.229085e+09</td>\n",
       "      <td>1.236014e+09</td>\n",
       "      <td>3.919113e+04</td>\n",
       "    </tr>\n",
       "    <tr>\n",
       "      <th>min</th>\n",
       "      <td>1.062393e+06</td>\n",
       "      <td>5.114589e+06</td>\n",
       "      <td>5.000000e+01</td>\n",
       "    </tr>\n",
       "    <tr>\n",
       "      <th>25%</th>\n",
       "      <td>1.166776e+09</td>\n",
       "      <td>1.111826e+09</td>\n",
       "      <td>1.220000e+03</td>\n",
       "    </tr>\n",
       "    <tr>\n",
       "      <th>50%</th>\n",
       "      <td>2.145194e+09</td>\n",
       "      <td>2.217985e+09</td>\n",
       "      <td>2.978000e+03</td>\n",
       "    </tr>\n",
       "    <tr>\n",
       "      <th>75%</th>\n",
       "      <td>3.237740e+09</td>\n",
       "      <td>3.177606e+09</td>\n",
       "      <td>8.290000e+03</td>\n",
       "    </tr>\n",
       "    <tr>\n",
       "      <th>max</th>\n",
       "      <td>4.293856e+09</td>\n",
       "      <td>4.283872e+09</td>\n",
       "      <td>1.294500e+06</td>\n",
       "    </tr>\n",
       "  </tbody>\n",
       "</table>\n",
       "</div>"
      ],
      "text/plain": [
       "       transactionId     visitorId       revenue\n",
       "count   1.197000e+03  1.197000e+03  1.197000e+03\n",
       "mean    2.155621e+09  2.165960e+09  8.348006e+03\n",
       "std     1.229085e+09  1.236014e+09  3.919113e+04\n",
       "min     1.062393e+06  5.114589e+06  5.000000e+01\n",
       "25%     1.166776e+09  1.111826e+09  1.220000e+03\n",
       "50%     2.145194e+09  2.217985e+09  2.978000e+03\n",
       "75%     3.237740e+09  3.177606e+09  8.290000e+03\n",
       "max     4.293856e+09  4.283872e+09  1.294500e+06"
      ]
     },
     "metadata": {},
     "output_type": "display_data"
    },
    {
     "name": "stdout",
     "output_type": "stream",
     "text": [
      "--------------------\n",
      "transactionId    0\n",
      "visitorId        0\n",
      "date             0\n",
      "revenue          0\n",
      "group            0\n",
      "dtype: int64\n",
      "--------------------\n",
      "Дубликатов в данных: 0\n"
     ]
    }
   ],
   "source": [
    "review(orders)"
   ]
  },
  {
   "cell_type": "code",
   "execution_count": 17,
   "metadata": {},
   "outputs": [
    {
     "data": {
      "text/html": [
       "<div>\n",
       "<style scoped>\n",
       "    .dataframe tbody tr th:only-of-type {\n",
       "        vertical-align: middle;\n",
       "    }\n",
       "\n",
       "    .dataframe tbody tr th {\n",
       "        vertical-align: top;\n",
       "    }\n",
       "\n",
       "    .dataframe thead th {\n",
       "        text-align: right;\n",
       "    }\n",
       "</style>\n",
       "<table border=\"1\" class=\"dataframe\">\n",
       "  <thead>\n",
       "    <tr style=\"text-align: right;\">\n",
       "      <th></th>\n",
       "      <th>transaction_id</th>\n",
       "      <th>visitor_id</th>\n",
       "      <th>date</th>\n",
       "      <th>revenue</th>\n",
       "      <th>group</th>\n",
       "    </tr>\n",
       "  </thead>\n",
       "  <tbody>\n",
       "    <tr>\n",
       "      <th>34</th>\n",
       "      <td>2153010762</td>\n",
       "      <td>834683205</td>\n",
       "      <td>2019-08-15</td>\n",
       "      <td>22785</td>\n",
       "      <td>A</td>\n",
       "    </tr>\n",
       "  </tbody>\n",
       "</table>\n",
       "</div>"
      ],
      "text/plain": [
       "    transaction_id  visitor_id        date  revenue group\n",
       "34      2153010762   834683205  2019-08-15    22785     A"
      ]
     },
     "execution_count": 17,
     "metadata": {},
     "output_type": "execute_result"
    }
   ],
   "source": [
    "orders = orders.rename(columns={'transactionId':'transaction_id', 'visitorId':'visitor_id'})\n",
    "orders.sample()"
   ]
  },
  {
   "cell_type": "code",
   "execution_count": 18,
   "metadata": {},
   "outputs": [
    {
     "name": "stdout",
     "output_type": "stream",
     "text": [
      "datetime64[ns]\n"
     ]
    }
   ],
   "source": [
    "orders['date'] = orders['date'].map(\n",
    "    lambda x: dt.datetime.strptime(x, '%Y-%m-%d')\n",
    ")\n",
    "print(orders['date'].dtypes)"
   ]
  },
  {
   "cell_type": "code",
   "execution_count": 19,
   "metadata": {
    "scrolled": true
   },
   "outputs": [
    {
     "name": "stdout",
     "output_type": "stream",
     "text": [
      "Всего пользователей в тесте: 1031\n",
      "Доля пользователей, оказавшихся одновременно в двух группах: 5.63%\n"
     ]
    }
   ],
   "source": [
    "group_a_visitors = orders[orders['group'] == 'A']['visitor_id'].unique()\n",
    "group_b_visitors = orders[orders['group'] == 'B']['visitor_id'].unique()\n",
    "\n",
    "common_users = np.intersect1d(group_a_visitors, group_b_visitors)\n",
    "\n",
    "proportion = len(common_users) / orders['visitor_id'].nunique()\n",
    "\n",
    "print('Всего пользователей в тесте:', orders['visitor_id'].nunique())\n",
    "print(f\"Доля пользователей, оказавшихся одновременно в двух группах: {proportion:.2%}\")"
   ]
  },
  {
   "cell_type": "code",
   "execution_count": 20,
   "metadata": {},
   "outputs": [],
   "source": [
    "#orders = orders.query('visitor_id not in @common_users')\n",
    "#print('Всего пользователей в тесте осталось:', orders['visitor_id'].nunique())"
   ]
  },
  {
   "cell_type": "code",
   "execution_count": 21,
   "metadata": {},
   "outputs": [
    {
     "name": "stdout",
     "output_type": "stream",
     "text": [
      "<class 'pandas.core.frame.DataFrame'>\n",
      "RangeIndex: 62 entries, 0 to 61\n",
      "Data columns (total 3 columns):\n",
      " #   Column    Non-Null Count  Dtype \n",
      "---  ------    --------------  ----- \n",
      " 0   date      62 non-null     object\n",
      " 1   group     62 non-null     object\n",
      " 2   visitors  62 non-null     int64 \n",
      "dtypes: int64(1), object(2)\n",
      "memory usage: 1.6+ KB\n",
      "None\n",
      "--------------------\n"
     ]
    },
    {
     "data": {
      "text/html": [
       "<div>\n",
       "<style scoped>\n",
       "    .dataframe tbody tr th:only-of-type {\n",
       "        vertical-align: middle;\n",
       "    }\n",
       "\n",
       "    .dataframe tbody tr th {\n",
       "        vertical-align: top;\n",
       "    }\n",
       "\n",
       "    .dataframe thead th {\n",
       "        text-align: right;\n",
       "    }\n",
       "</style>\n",
       "<table border=\"1\" class=\"dataframe\">\n",
       "  <thead>\n",
       "    <tr style=\"text-align: right;\">\n",
       "      <th></th>\n",
       "      <th>date</th>\n",
       "      <th>group</th>\n",
       "      <th>visitors</th>\n",
       "    </tr>\n",
       "  </thead>\n",
       "  <tbody>\n",
       "    <tr>\n",
       "      <th>0</th>\n",
       "      <td>2019-08-01</td>\n",
       "      <td>A</td>\n",
       "      <td>719</td>\n",
       "    </tr>\n",
       "    <tr>\n",
       "      <th>1</th>\n",
       "      <td>2019-08-02</td>\n",
       "      <td>A</td>\n",
       "      <td>619</td>\n",
       "    </tr>\n",
       "    <tr>\n",
       "      <th>2</th>\n",
       "      <td>2019-08-03</td>\n",
       "      <td>A</td>\n",
       "      <td>507</td>\n",
       "    </tr>\n",
       "    <tr>\n",
       "      <th>3</th>\n",
       "      <td>2019-08-04</td>\n",
       "      <td>A</td>\n",
       "      <td>717</td>\n",
       "    </tr>\n",
       "    <tr>\n",
       "      <th>4</th>\n",
       "      <td>2019-08-05</td>\n",
       "      <td>A</td>\n",
       "      <td>756</td>\n",
       "    </tr>\n",
       "  </tbody>\n",
       "</table>\n",
       "</div>"
      ],
      "text/plain": [
       "         date group  visitors\n",
       "0  2019-08-01     A       719\n",
       "1  2019-08-02     A       619\n",
       "2  2019-08-03     A       507\n",
       "3  2019-08-04     A       717\n",
       "4  2019-08-05     A       756"
      ]
     },
     "metadata": {},
     "output_type": "display_data"
    },
    {
     "name": "stdout",
     "output_type": "stream",
     "text": [
      "--------------------\n"
     ]
    },
    {
     "data": {
      "text/html": [
       "<div>\n",
       "<style scoped>\n",
       "    .dataframe tbody tr th:only-of-type {\n",
       "        vertical-align: middle;\n",
       "    }\n",
       "\n",
       "    .dataframe tbody tr th {\n",
       "        vertical-align: top;\n",
       "    }\n",
       "\n",
       "    .dataframe thead th {\n",
       "        text-align: right;\n",
       "    }\n",
       "</style>\n",
       "<table border=\"1\" class=\"dataframe\">\n",
       "  <thead>\n",
       "    <tr style=\"text-align: right;\">\n",
       "      <th></th>\n",
       "      <th>visitors</th>\n",
       "    </tr>\n",
       "  </thead>\n",
       "  <tbody>\n",
       "    <tr>\n",
       "      <th>count</th>\n",
       "      <td>62.000000</td>\n",
       "    </tr>\n",
       "    <tr>\n",
       "      <th>mean</th>\n",
       "      <td>607.290323</td>\n",
       "    </tr>\n",
       "    <tr>\n",
       "      <th>std</th>\n",
       "      <td>114.400560</td>\n",
       "    </tr>\n",
       "    <tr>\n",
       "      <th>min</th>\n",
       "      <td>361.000000</td>\n",
       "    </tr>\n",
       "    <tr>\n",
       "      <th>25%</th>\n",
       "      <td>534.000000</td>\n",
       "    </tr>\n",
       "    <tr>\n",
       "      <th>50%</th>\n",
       "      <td>624.500000</td>\n",
       "    </tr>\n",
       "    <tr>\n",
       "      <th>75%</th>\n",
       "      <td>710.500000</td>\n",
       "    </tr>\n",
       "    <tr>\n",
       "      <th>max</th>\n",
       "      <td>770.000000</td>\n",
       "    </tr>\n",
       "  </tbody>\n",
       "</table>\n",
       "</div>"
      ],
      "text/plain": [
       "         visitors\n",
       "count   62.000000\n",
       "mean   607.290323\n",
       "std    114.400560\n",
       "min    361.000000\n",
       "25%    534.000000\n",
       "50%    624.500000\n",
       "75%    710.500000\n",
       "max    770.000000"
      ]
     },
     "metadata": {},
     "output_type": "display_data"
    },
    {
     "name": "stdout",
     "output_type": "stream",
     "text": [
      "--------------------\n",
      "date        0\n",
      "group       0\n",
      "visitors    0\n",
      "dtype: int64\n",
      "--------------------\n",
      "Дубликатов в данных: 0\n"
     ]
    }
   ],
   "source": [
    "review(visitors)"
   ]
  },
  {
   "cell_type": "code",
   "execution_count": 22,
   "metadata": {},
   "outputs": [
    {
     "name": "stdout",
     "output_type": "stream",
     "text": [
      "datetime64[ns]\n"
     ]
    }
   ],
   "source": [
    "visitors['date'] = visitors['date'].map(\n",
    "    lambda x: dt.datetime.strptime(x, '%Y-%m-%d')\n",
    ")\n",
    "print(visitors['date'].dtypes)"
   ]
  },
  {
   "cell_type": "markdown",
   "metadata": {},
   "source": [
    "***ВЫВОДЫ:***\n",
    "\n",
    "1. Мы загрузили необходимые нам данные и сохранили их в датафреймы.\n",
    "2. В ходе предобработки данных мы выяснили, что пропусков и дубликатов в данных нет.\n",
    "3. Столбцы с датами были приведены к нужному типу данных: тип `object` мы привели к типу `datetime`.\n",
    "4. Мы выяснили, что в таблице `orders` есть пользователи, оказавшиеся в двух группах, доля таких пользователей составила 5,63 %."
   ]
  },
  {
   "cell_type": "markdown",
   "metadata": {},
   "source": [
    "# Приоритизация гипотез"
   ]
  },
  {
   "cell_type": "markdown",
   "metadata": {},
   "source": [
    "В файле /datasets/hypothesis.csv 9 гипотез по увеличению выручки интернет-магазина с указанными параметрами Reach, Impact, Confidence, Effort."
   ]
  },
  {
   "cell_type": "code",
   "execution_count": 26,
   "metadata": {},
   "outputs": [
    {
     "data": {
      "text/html": [
       "<div>\n",
       "<style scoped>\n",
       "    .dataframe tbody tr th:only-of-type {\n",
       "        vertical-align: middle;\n",
       "    }\n",
       "\n",
       "    .dataframe tbody tr th {\n",
       "        vertical-align: top;\n",
       "    }\n",
       "\n",
       "    .dataframe thead th {\n",
       "        text-align: right;\n",
       "    }\n",
       "</style>\n",
       "<table border=\"1\" class=\"dataframe\">\n",
       "  <thead>\n",
       "    <tr style=\"text-align: right;\">\n",
       "      <th></th>\n",
       "      <th>hypothesis</th>\n",
       "      <th>reach</th>\n",
       "      <th>impact</th>\n",
       "      <th>confidence</th>\n",
       "      <th>efforts</th>\n",
       "    </tr>\n",
       "  </thead>\n",
       "  <tbody>\n",
       "    <tr>\n",
       "      <th>0</th>\n",
       "      <td>Добавить два новых канала привлечения трафика, что позволит привлекать на 30% больше пользователей</td>\n",
       "      <td>3</td>\n",
       "      <td>10</td>\n",
       "      <td>8</td>\n",
       "      <td>6</td>\n",
       "    </tr>\n",
       "    <tr>\n",
       "      <th>1</th>\n",
       "      <td>Запустить собственную службу доставки, что сократит срок доставки заказов</td>\n",
       "      <td>2</td>\n",
       "      <td>5</td>\n",
       "      <td>4</td>\n",
       "      <td>10</td>\n",
       "    </tr>\n",
       "    <tr>\n",
       "      <th>2</th>\n",
       "      <td>Добавить блоки рекомендаций товаров на сайт интернет магазина, чтобы повысить конверсию и средний чек заказа</td>\n",
       "      <td>8</td>\n",
       "      <td>3</td>\n",
       "      <td>7</td>\n",
       "      <td>3</td>\n",
       "    </tr>\n",
       "    <tr>\n",
       "      <th>3</th>\n",
       "      <td>Изменить структура категорий, что увеличит конверсию, т.к. пользователи быстрее найдут нужный товар</td>\n",
       "      <td>8</td>\n",
       "      <td>3</td>\n",
       "      <td>3</td>\n",
       "      <td>8</td>\n",
       "    </tr>\n",
       "    <tr>\n",
       "      <th>4</th>\n",
       "      <td>Изменить цвет фона главной страницы, чтобы увеличить вовлеченность пользователей</td>\n",
       "      <td>3</td>\n",
       "      <td>1</td>\n",
       "      <td>1</td>\n",
       "      <td>1</td>\n",
       "    </tr>\n",
       "    <tr>\n",
       "      <th>5</th>\n",
       "      <td>Добавить страницу отзывов клиентов о магазине, что позволит увеличить количество заказов</td>\n",
       "      <td>3</td>\n",
       "      <td>2</td>\n",
       "      <td>2</td>\n",
       "      <td>3</td>\n",
       "    </tr>\n",
       "    <tr>\n",
       "      <th>6</th>\n",
       "      <td>Показать на главной странице баннеры с актуальными акциями и распродажами, чтобы увеличить конверсию</td>\n",
       "      <td>5</td>\n",
       "      <td>3</td>\n",
       "      <td>8</td>\n",
       "      <td>3</td>\n",
       "    </tr>\n",
       "    <tr>\n",
       "      <th>7</th>\n",
       "      <td>Добавить форму подписки на все основные страницы, чтобы собрать базу клиентов для email-рассылок</td>\n",
       "      <td>10</td>\n",
       "      <td>7</td>\n",
       "      <td>8</td>\n",
       "      <td>5</td>\n",
       "    </tr>\n",
       "    <tr>\n",
       "      <th>8</th>\n",
       "      <td>Запустить акцию, дающую скидку на товар в день рождения</td>\n",
       "      <td>1</td>\n",
       "      <td>9</td>\n",
       "      <td>9</td>\n",
       "      <td>5</td>\n",
       "    </tr>\n",
       "  </tbody>\n",
       "</table>\n",
       "</div>"
      ],
      "text/plain": [
       "                                                                                                     hypothesis  \\\n",
       "0            Добавить два новых канала привлечения трафика, что позволит привлекать на 30% больше пользователей   \n",
       "1                                     Запустить собственную службу доставки, что сократит срок доставки заказов   \n",
       "2  Добавить блоки рекомендаций товаров на сайт интернет магазина, чтобы повысить конверсию и средний чек заказа   \n",
       "3           Изменить структура категорий, что увеличит конверсию, т.к. пользователи быстрее найдут нужный товар   \n",
       "4                              Изменить цвет фона главной страницы, чтобы увеличить вовлеченность пользователей   \n",
       "5                      Добавить страницу отзывов клиентов о магазине, что позволит увеличить количество заказов   \n",
       "6          Показать на главной странице баннеры с актуальными акциями и распродажами, чтобы увеличить конверсию   \n",
       "7              Добавить форму подписки на все основные страницы, чтобы собрать базу клиентов для email-рассылок   \n",
       "8                                                       Запустить акцию, дающую скидку на товар в день рождения   \n",
       "\n",
       "   reach  impact  confidence  efforts  \n",
       "0      3      10           8        6  \n",
       "1      2       5           4       10  \n",
       "2      8       3           7        3  \n",
       "3      8       3           3        8  \n",
       "4      3       1           1        1  \n",
       "5      3       2           2        3  \n",
       "6      5       3           8        3  \n",
       "7     10       7           8        5  \n",
       "8      1       9           9        5  "
      ]
     },
     "execution_count": 26,
     "metadata": {},
     "output_type": "execute_result"
    }
   ],
   "source": [
    "hyps"
   ]
  },
  {
   "cell_type": "markdown",
   "metadata": {},
   "source": [
    "### 1.1. Применим фреймворк ICE для приоритизации гипотез и отсортируем их по убыванию приоритета."
   ]
  },
  {
   "attachments": {
    "6dccc229-5008-4f65-9be5-320fbe69cea6.png": {
     "image/png": "[encoded data removed]"
    }
   },
   "cell_type": "markdown",
   "metadata": {},
   "source": [
    "Фреймворк ICE будем рассчитывать по следующей формуле:\n",
    "![image.png](attachment:6dccc229-5008-4f65-9be5-320fbe69cea6.png)"
   ]
  },
  {
   "cell_type": "code",
   "execution_count": 29,
   "metadata": {},
   "outputs": [
    {
     "data": {
      "text/html": [
       "<div>\n",
       "<style scoped>\n",
       "    .dataframe tbody tr th:only-of-type {\n",
       "        vertical-align: middle;\n",
       "    }\n",
       "\n",
       "    .dataframe tbody tr th {\n",
       "        vertical-align: top;\n",
       "    }\n",
       "\n",
       "    .dataframe thead th {\n",
       "        text-align: right;\n",
       "    }\n",
       "</style>\n",
       "<table border=\"1\" class=\"dataframe\">\n",
       "  <thead>\n",
       "    <tr style=\"text-align: right;\">\n",
       "      <th></th>\n",
       "      <th>hypothesis</th>\n",
       "      <th>ICE</th>\n",
       "    </tr>\n",
       "  </thead>\n",
       "  <tbody>\n",
       "    <tr>\n",
       "      <th>8</th>\n",
       "      <td>Запустить акцию, дающую скидку на товар в день рождения</td>\n",
       "      <td>16.0</td>\n",
       "    </tr>\n",
       "    <tr>\n",
       "      <th>0</th>\n",
       "      <td>Добавить два новых канала привлечения трафика, что позволит привлекать на 30% больше пользователей</td>\n",
       "      <td>13.0</td>\n",
       "    </tr>\n",
       "    <tr>\n",
       "      <th>7</th>\n",
       "      <td>Добавить форму подписки на все основные страницы, чтобы собрать базу клиентов для email-рассылок</td>\n",
       "      <td>11.0</td>\n",
       "    </tr>\n",
       "    <tr>\n",
       "      <th>6</th>\n",
       "      <td>Показать на главной странице баннеры с актуальными акциями и распродажами, чтобы увеличить конверсию</td>\n",
       "      <td>8.0</td>\n",
       "    </tr>\n",
       "    <tr>\n",
       "      <th>2</th>\n",
       "      <td>Добавить блоки рекомендаций товаров на сайт интернет магазина, чтобы повысить конверсию и средний чек заказа</td>\n",
       "      <td>7.0</td>\n",
       "    </tr>\n",
       "    <tr>\n",
       "      <th>1</th>\n",
       "      <td>Запустить собственную службу доставки, что сократит срок доставки заказов</td>\n",
       "      <td>2.0</td>\n",
       "    </tr>\n",
       "    <tr>\n",
       "      <th>5</th>\n",
       "      <td>Добавить страницу отзывов клиентов о магазине, что позволит увеличить количество заказов</td>\n",
       "      <td>1.0</td>\n",
       "    </tr>\n",
       "    <tr>\n",
       "      <th>3</th>\n",
       "      <td>Изменить структура категорий, что увеличит конверсию, т.к. пользователи быстрее найдут нужный товар</td>\n",
       "      <td>1.0</td>\n",
       "    </tr>\n",
       "    <tr>\n",
       "      <th>4</th>\n",
       "      <td>Изменить цвет фона главной страницы, чтобы увеличить вовлеченность пользователей</td>\n",
       "      <td>1.0</td>\n",
       "    </tr>\n",
       "  </tbody>\n",
       "</table>\n",
       "</div>"
      ],
      "text/plain": [
       "                                                                                                     hypothesis  \\\n",
       "8                                                       Запустить акцию, дающую скидку на товар в день рождения   \n",
       "0            Добавить два новых канала привлечения трафика, что позволит привлекать на 30% больше пользователей   \n",
       "7              Добавить форму подписки на все основные страницы, чтобы собрать базу клиентов для email-рассылок   \n",
       "6          Показать на главной странице баннеры с актуальными акциями и распродажами, чтобы увеличить конверсию   \n",
       "2  Добавить блоки рекомендаций товаров на сайт интернет магазина, чтобы повысить конверсию и средний чек заказа   \n",
       "1                                     Запустить собственную службу доставки, что сократит срок доставки заказов   \n",
       "5                      Добавить страницу отзывов клиентов о магазине, что позволит увеличить количество заказов   \n",
       "3           Изменить структура категорий, что увеличит конверсию, т.к. пользователи быстрее найдут нужный товар   \n",
       "4                              Изменить цвет фона главной страницы, чтобы увеличить вовлеченность пользователей   \n",
       "\n",
       "    ICE  \n",
       "8  16.0  \n",
       "0  13.0  \n",
       "7  11.0  \n",
       "6   8.0  \n",
       "2   7.0  \n",
       "1   2.0  \n",
       "5   1.0  \n",
       "3   1.0  \n",
       "4   1.0  "
      ]
     },
     "metadata": {},
     "output_type": "display_data"
    },
    {
     "data": {
      "text/plain": [
       "1"
      ]
     },
     "metadata": {},
     "output_type": "display_data"
    }
   ],
   "source": [
    "hyps['ICE'] = hyps['impact'] * hyps['confidence'] / hyps['efforts']\n",
    "display(round(hyps[['hypothesis', 'ICE']].sort_values(by='ICE', ascending=False)), 1)"
   ]
  },
  {
   "cell_type": "markdown",
   "metadata": {},
   "source": [
    "***Наиболее перспективные гипотезы по фреймворку ICE - это следующие гипотезы:***\n",
    "\n",
    "- гипотеза 9 (Запустить акцию, дающую скидку на товар в день рождения)\n",
    "- гипотеза 1 (Добавить два новых канала привлечения трафика, что позволит привлекать на 30% больше пользователей)\n",
    "- гипотеза 8 (Добавить форму подписки на все основные страницы, чтобы собрать базу клиентов для email-рассылок)\n",
    "- гипотеза 7 (Показать на главной странице баннеры с актуальными акциями и распродажами, чтобы увеличить конверсию)"
   ]
  },
  {
   "cell_type": "markdown",
   "metadata": {},
   "source": [
    "### 1.2. Применим фреймворк RICE для приоритизации гипотез и отсортируем их по убыванию приоритета."
   ]
  },
  {
   "attachments": {
    "1aad551d-51cb-4409-a0e0-cbaa5a7489c0.png": {
     "image/png": "[encoded data removed]"
    }
   },
   "cell_type": "markdown",
   "metadata": {},
   "source": [
    "Фреймворк RICE будем рассчитывать по следующей формуле:\n",
    "![image.png](attachment:1aad551d-51cb-4409-a0e0-cbaa5a7489c0.png)"
   ]
  },
  {
   "cell_type": "code",
   "execution_count": 33,
   "metadata": {},
   "outputs": [
    {
     "data": {
      "text/html": [
       "<div>\n",
       "<style scoped>\n",
       "    .dataframe tbody tr th:only-of-type {\n",
       "        vertical-align: middle;\n",
       "    }\n",
       "\n",
       "    .dataframe tbody tr th {\n",
       "        vertical-align: top;\n",
       "    }\n",
       "\n",
       "    .dataframe thead th {\n",
       "        text-align: right;\n",
       "    }\n",
       "</style>\n",
       "<table border=\"1\" class=\"dataframe\">\n",
       "  <thead>\n",
       "    <tr style=\"text-align: right;\">\n",
       "      <th></th>\n",
       "      <th>hypothesis</th>\n",
       "      <th>RICE</th>\n",
       "    </tr>\n",
       "  </thead>\n",
       "  <tbody>\n",
       "    <tr>\n",
       "      <th>7</th>\n",
       "      <td>Добавить форму подписки на все основные страницы, чтобы собрать базу клиентов для email-рассылок</td>\n",
       "      <td>112.0</td>\n",
       "    </tr>\n",
       "    <tr>\n",
       "      <th>2</th>\n",
       "      <td>Добавить блоки рекомендаций товаров на сайт интернет магазина, чтобы повысить конверсию и средний чек заказа</td>\n",
       "      <td>56.0</td>\n",
       "    </tr>\n",
       "    <tr>\n",
       "      <th>0</th>\n",
       "      <td>Добавить два новых канала привлечения трафика, что позволит привлекать на 30% больше пользователей</td>\n",
       "      <td>40.0</td>\n",
       "    </tr>\n",
       "    <tr>\n",
       "      <th>6</th>\n",
       "      <td>Показать на главной странице баннеры с актуальными акциями и распродажами, чтобы увеличить конверсию</td>\n",
       "      <td>40.0</td>\n",
       "    </tr>\n",
       "    <tr>\n",
       "      <th>8</th>\n",
       "      <td>Запустить акцию, дающую скидку на товар в день рождения</td>\n",
       "      <td>16.2</td>\n",
       "    </tr>\n",
       "    <tr>\n",
       "      <th>3</th>\n",
       "      <td>Изменить структура категорий, что увеличит конверсию, т.к. пользователи быстрее найдут нужный товар</td>\n",
       "      <td>9.0</td>\n",
       "    </tr>\n",
       "    <tr>\n",
       "      <th>1</th>\n",
       "      <td>Запустить собственную службу доставки, что сократит срок доставки заказов</td>\n",
       "      <td>4.0</td>\n",
       "    </tr>\n",
       "    <tr>\n",
       "      <th>5</th>\n",
       "      <td>Добавить страницу отзывов клиентов о магазине, что позволит увеличить количество заказов</td>\n",
       "      <td>4.0</td>\n",
       "    </tr>\n",
       "    <tr>\n",
       "      <th>4</th>\n",
       "      <td>Изменить цвет фона главной страницы, чтобы увеличить вовлеченность пользователей</td>\n",
       "      <td>3.0</td>\n",
       "    </tr>\n",
       "  </tbody>\n",
       "</table>\n",
       "</div>"
      ],
      "text/plain": [
       "                                                                                                     hypothesis  \\\n",
       "7              Добавить форму подписки на все основные страницы, чтобы собрать базу клиентов для email-рассылок   \n",
       "2  Добавить блоки рекомендаций товаров на сайт интернет магазина, чтобы повысить конверсию и средний чек заказа   \n",
       "0            Добавить два новых канала привлечения трафика, что позволит привлекать на 30% больше пользователей   \n",
       "6          Показать на главной странице баннеры с актуальными акциями и распродажами, чтобы увеличить конверсию   \n",
       "8                                                       Запустить акцию, дающую скидку на товар в день рождения   \n",
       "3           Изменить структура категорий, что увеличит конверсию, т.к. пользователи быстрее найдут нужный товар   \n",
       "1                                     Запустить собственную службу доставки, что сократит срок доставки заказов   \n",
       "5                      Добавить страницу отзывов клиентов о магазине, что позволит увеличить количество заказов   \n",
       "4                              Изменить цвет фона главной страницы, чтобы увеличить вовлеченность пользователей   \n",
       "\n",
       "    RICE  \n",
       "7  112.0  \n",
       "2   56.0  \n",
       "0   40.0  \n",
       "6   40.0  \n",
       "8   16.2  \n",
       "3    9.0  \n",
       "1    4.0  \n",
       "5    4.0  \n",
       "4    3.0  "
      ]
     },
     "metadata": {},
     "output_type": "display_data"
    }
   ],
   "source": [
    "hyps['RICE'] = hyps['reach'] * hyps['impact'] * hyps['confidence'] / hyps['efforts']\n",
    "display(hyps[['hypothesis', 'RICE']].sort_values(by='RICE', ascending=False))"
   ]
  },
  {
   "cell_type": "markdown",
   "metadata": {},
   "source": [
    "***Наиболее перспективные гипотезы по фреймворку RICE - это следующие гипотезы:***\n",
    "\n",
    "- гипотеза 8 (Добавить форму подписки на все основные страницы, чтобы собрать базу клиентов для email-рассылок)\n",
    "- гипотеза 3 (Добавить блоки рекомендаций товаров на сайт интернет магазина, чтобы повысить конверсию и средний чек заказа)\n",
    "- гипотеза 1 (Добавить два новых канала привлечения трафика, что позволит привлекать на 30% больше пользователей)\n",
    "- гипотеза 7 (Показать на главной странице баннеры с актуальными акциями и распродажами, чтобы увеличить конверсию)"
   ]
  },
  {
   "cell_type": "markdown",
   "metadata": {},
   "source": [
    "### 1.3. Что изменилось в приоритизации гипотез при применении RICE вместо ICE?"
   ]
  },
  {
   "cell_type": "markdown",
   "metadata": {},
   "source": [
    "При применении второго фреймворка приоритизация гипотез изменилась - в первом случае, гипотеза 9 была на первом месте, во втором - ее нет даже в первой четверке, также приоритетные гипотезы 8, 1 и 7 находятся в обоих случаях в топ-4. Однако приоритеты распределены по-другому. Гипотеза 3 в первом случае была ниже. \n",
    "\n",
    "Во втором случае на первом месте гипотеза 8, так получилось, потому что ее параметр `Reach` (скольких пользователей затронет изменение, которое вы хотите внести) равен максимальному значению, 10, в то время, как у других гипотез он меньше. Кроме силы гипотез обязательно нужно учитывать и то, как много пользователей она затронет."
   ]
  },
  {
   "cell_type": "markdown",
   "metadata": {},
   "source": [
    "***ВЫВОД:***\n",
    "\n",
    "Фреймфорк RICE добавил критерий охвата `Reach`, что сместило приоритеты в сторону гипотез, которые влияют на большее количество пользователей (например, форма подписки и блоки рекомендаций).\n",
    "Гипотезы с ограниченным охватом (например, скидка в день рождения, гипотеза 9) потеряли в приоритете."
   ]
  },
  {
   "cell_type": "markdown",
   "metadata": {},
   "source": [
    "# Анализ A/B-теста"
   ]
  },
  {
   "cell_type": "markdown",
   "metadata": {},
   "source": [
    "Мы провели A/B-тест и получили результаты, которые описаны в файлах /datasets/orders.csv и /datasets/visitors.csv."
   ]
  },
  {
   "cell_type": "markdown",
   "metadata": {},
   "source": [
    "### 1.1. Построим график кумулятивной выручки по группам и сделаем первые выводы."
   ]
  },
  {
   "cell_type": "markdown",
   "metadata": {},
   "source": [
    "Создадим массив уникальных пар значений дат и групп теста методом `drop_duplicates()`:"
   ]
  },
  {
   "cell_type": "code",
   "execution_count": 42,
   "metadata": {},
   "outputs": [],
   "source": [
    "datesGroups = orders[['date','group']].drop_duplicates()"
   ]
  },
  {
   "cell_type": "markdown",
   "metadata": {},
   "source": [
    "Получаем агрегированные кумулятивные по дням данные о заказах, о посетителях интернет-магазина и объединим данные в одной таблице:"
   ]
  },
  {
   "cell_type": "code",
   "execution_count": 44,
   "metadata": {},
   "outputs": [
    {
     "data": {
      "text/html": [
       "<div>\n",
       "<style scoped>\n",
       "    .dataframe tbody tr th:only-of-type {\n",
       "        vertical-align: middle;\n",
       "    }\n",
       "\n",
       "    .dataframe tbody tr th {\n",
       "        vertical-align: top;\n",
       "    }\n",
       "\n",
       "    .dataframe thead th {\n",
       "        text-align: right;\n",
       "    }\n",
       "</style>\n",
       "<table border=\"1\" class=\"dataframe\">\n",
       "  <thead>\n",
       "    <tr style=\"text-align: right;\">\n",
       "      <th></th>\n",
       "      <th>date</th>\n",
       "      <th>group</th>\n",
       "      <th>orders</th>\n",
       "      <th>buyers</th>\n",
       "      <th>revenue</th>\n",
       "      <th>visitors</th>\n",
       "    </tr>\n",
       "  </thead>\n",
       "  <tbody>\n",
       "    <tr>\n",
       "      <th>0</th>\n",
       "      <td>2019-08-01</td>\n",
       "      <td>A</td>\n",
       "      <td>24</td>\n",
       "      <td>20</td>\n",
       "      <td>148579</td>\n",
       "      <td>719</td>\n",
       "    </tr>\n",
       "    <tr>\n",
       "      <th>1</th>\n",
       "      <td>2019-08-01</td>\n",
       "      <td>B</td>\n",
       "      <td>21</td>\n",
       "      <td>20</td>\n",
       "      <td>101217</td>\n",
       "      <td>713</td>\n",
       "    </tr>\n",
       "    <tr>\n",
       "      <th>2</th>\n",
       "      <td>2019-08-02</td>\n",
       "      <td>A</td>\n",
       "      <td>44</td>\n",
       "      <td>38</td>\n",
       "      <td>242401</td>\n",
       "      <td>1338</td>\n",
       "    </tr>\n",
       "    <tr>\n",
       "      <th>3</th>\n",
       "      <td>2019-08-02</td>\n",
       "      <td>B</td>\n",
       "      <td>45</td>\n",
       "      <td>43</td>\n",
       "      <td>266748</td>\n",
       "      <td>1294</td>\n",
       "    </tr>\n",
       "    <tr>\n",
       "      <th>4</th>\n",
       "      <td>2019-08-03</td>\n",
       "      <td>A</td>\n",
       "      <td>68</td>\n",
       "      <td>62</td>\n",
       "      <td>354874</td>\n",
       "      <td>1845</td>\n",
       "    </tr>\n",
       "  </tbody>\n",
       "</table>\n",
       "</div>"
      ],
      "text/plain": [
       "        date group  orders  buyers  revenue  visitors\n",
       "0 2019-08-01     A      24      20   148579       719\n",
       "1 2019-08-01     B      21      20   101217       713\n",
       "2 2019-08-02     A      44      38   242401      1338\n",
       "3 2019-08-02     B      45      43   266748      1294\n",
       "4 2019-08-03     A      68      62   354874      1845"
      ]
     },
     "metadata": {},
     "output_type": "display_data"
    }
   ],
   "source": [
    "ordersAggregated = datesGroups.apply(lambda x: orders[np.logical_and(orders['date'] <= x['date'], orders['group'] == x['group'])] \\\n",
    "                                     .agg({'date' : 'max', 'group' : 'max', 'transaction_id' : 'nunique', 'visitor_id' : 'nunique', 'revenue' : 'sum'}), axis=1)\\\n",
    "                                     .sort_values(by=['date','group'])\n",
    "\n",
    "visitorsAggregated = datesGroups.apply(lambda x: visitors[np.logical_and(visitors['date'] <= x['date'], visitors['group'] == x['group'])] \\\n",
    "                                       .agg({'date' : 'max', 'group' : 'max', 'visitors' : 'sum'}), axis=1) \\\n",
    "                                       .sort_values(by=['date','group'])\n",
    "\n",
    "cumulativeData = ordersAggregated.merge(visitorsAggregated, left_on=['date', 'group'], right_on=['date', 'group'])\n",
    "cumulativeData.columns = ['date', 'group', 'orders', 'buyers', 'revenue', 'visitors']\n",
    "\n",
    "display(cumulativeData.head(5))"
   ]
  },
  {
   "cell_type": "markdown",
   "metadata": {},
   "source": [
    "Создадим датафреймы с кумулятивным количеством заказов и кумулятивной выручкой по дням в группах:"
   ]
  },
  {
   "cell_type": "code",
   "execution_count": 46,
   "metadata": {},
   "outputs": [],
   "source": [
    "cumulativeRevenueA = cumulativeData[cumulativeData['group']=='A'][['date','revenue', 'orders']]\n",
    "cumulativeRevenueB = cumulativeData[cumulativeData['group']=='B'][['date','revenue', 'orders']]"
   ]
  },
  {
   "cell_type": "markdown",
   "metadata": {},
   "source": [
    "Построим график кумулятивной выручки по группам:"
   ]
  },
  {
   "cell_type": "code",
   "execution_count": 48,
   "metadata": {},
   "outputs": [
    {
     "data": {
      "image/png": "[encoded data removed]",
      "text/plain": [
       "<Figure size 640x480 with 1 Axes>"
      ]
     },
     "metadata": {},
     "output_type": "display_data"
    }
   ],
   "source": [
    "import matplotlib.pyplot as plt\n",
    "plt.style.use('classic')\n",
    "\n",
    "plt.plot(cumulativeRevenueA['date'], cumulativeRevenueA['revenue'], label='A')\n",
    "plt.plot(cumulativeRevenueB['date'], cumulativeRevenueB['revenue'], label='B')\n",
    "\n",
    "plt.title('График кумулятивной выручки по группам A/B-теста', fontsize=13)\n",
    "plt.xlabel('Дата', fontsize=12)\n",
    "plt.ylabel('Выручка, ₽', fontsize=12)\n",
    "plt.xticks(rotation = 45, fontsize=9)\n",
    "plt.grid()\n",
    "plt.legend() \n",
    "plt.show()"
   ]
  },
  {
   "cell_type": "markdown",
   "metadata": {},
   "source": [
    "***Практически в течение всего теста выручка увеличивается равномерно, однако не можем не обратить внимание на резкий скачок в одной точке графика группы В. Это может говорить либо о резком увеличении количества заказов в определенный момент времени, либо о появлении более дорогих заказов. Данные выбросы нужно будет обязательно проанализировать далее.***"
   ]
  },
  {
   "cell_type": "markdown",
   "metadata": {},
   "source": [
    "### 1.2. Построим график кумулятивного среднего чека по группам и сделаем первые выводы."
   ]
  },
  {
   "cell_type": "markdown",
   "metadata": {},
   "source": [
    "Построим графики среднего чека по группам — разделим кумулятивную выручку на кумулятивное число заказов:"
   ]
  },
  {
   "cell_type": "code",
   "execution_count": 52,
   "metadata": {},
   "outputs": [
    {
     "data": {
      "image/png": "[encoded data removed]",
      "text/plain": [
       "<Figure size 640x480 with 1 Axes>"
      ]
     },
     "metadata": {},
     "output_type": "display_data"
    }
   ],
   "source": [
    "plt.plot(cumulativeRevenueA['date'], cumulativeRevenueA['revenue']/cumulativeRevenueA['orders'], label='A')\n",
    "plt.plot(cumulativeRevenueB['date'], cumulativeRevenueB['revenue']/cumulativeRevenueB['orders'], label='B')\n",
    "\n",
    "plt.title('График кумулятивного среднего чека по группам A/B-теста', fontsize=13)\n",
    "plt.xlabel('Дата', fontsize=12)\n",
    "plt.ylabel('Средний чек, ₽', fontsize=12)\n",
    "plt.xticks(rotation = 45, fontsize=9)\n",
    "plt.grid()\n",
    "plt.legend() \n",
    "plt.show()"
   ]
  },
  {
   "cell_type": "markdown",
   "metadata": {},
   "source": [
    "***Значения среднего чека двух групп разные. Средний чек группы А сначала упал вниз, затем был скачок вверх, однако после этого ситуация практически стабилизировалась. Средний чек группы В рос умеренно, затем резко скакнул вверх, после этого заметна тенденция к умеренному снижению среднего чека.***"
   ]
  },
  {
   "cell_type": "markdown",
   "metadata": {},
   "source": [
    "### 1.3. Построим график относительного изменения кумулятивного среднего чека группы B к группе A и сделаем выводы."
   ]
  },
  {
   "cell_type": "markdown",
   "metadata": {},
   "source": [
    "Построим график относительного различия для среднего чека, добавим горизонтальную ось методом `axhline()`, сразу объединим данные двух групп в один датафрейм:"
   ]
  },
  {
   "cell_type": "code",
   "execution_count": 175,
   "metadata": {},
   "outputs": [
    {
     "data": {
      "image/png": "[encoded data removed]",
      "text/plain": [
       "<Figure size 640x480 with 1 Axes>"
      ]
     },
     "metadata": {},
     "output_type": "display_data"
    }
   ],
   "source": [
    "mergedCumulativeRevenue = cumulativeRevenueA.merge(cumulativeRevenueB, left_on='date', right_on='date', how='left', suffixes=['A', 'B'])\n",
    "\n",
    "plt.plot(\n",
    "    mergedCumulativeRevenue['date'],\n",
    "    (mergedCumulativeRevenue['revenueB']/\n",
    "    mergedCumulativeRevenue['ordersB'])/\n",
    "    (mergedCumulativeRevenue['revenueA']/\n",
    "    mergedCumulativeRevenue['ordersA'])-1\n",
    ")\n",
    "\n",
    "plt.axhline(y=0, color='red', linestyle='--', linewidth=2)\n",
    "\n",
    "plt.title('График относительного различия для кумулятивного среднего чека', fontsize=13, y=1.05)\n",
    "plt.xlabel('Дата', fontsize=12)\n",
    "plt.ylabel('Отношение средних чеков', fontsize=12)\n",
    "plt.xticks(rotation = 45, fontsize=9)\n",
    "plt.grid()\n",
    "\n",
    "plt.show()"
   ]
  },
  {
   "cell_type": "markdown",
   "metadata": {},
   "source": [
    "***График неравномерный, видны точки как резких скачков, так и резких падений, что говорит о том, что где-то в данных точно есть крупные заказы и выбросы.***"
   ]
  },
  {
   "cell_type": "markdown",
   "metadata": {},
   "source": [
    "### 1.4. Построим график кумулятивного среднего количества заказов на посетителя по группам и сделаем выводы."
   ]
  },
  {
   "cell_type": "markdown",
   "metadata": {},
   "source": [
    "Считаем конверсию и разделим данные на группы:"
   ]
  },
  {
   "cell_type": "code",
   "execution_count": 60,
   "metadata": {},
   "outputs": [],
   "source": [
    "cumulativeData['conversion'] = cumulativeData['orders']/cumulativeData['visitors']\n",
    "\n",
    "cumulativeDataA = cumulativeData[cumulativeData['group']=='A']\n",
    "cumulativeDataB = cumulativeData[cumulativeData['group']=='B']"
   ]
  },
  {
   "cell_type": "markdown",
   "metadata": {},
   "source": [
    "Зададим масштаб осей методом `plt.axis()`. Передадим ему минимальное и максимальное значения оси `x`; минимальное и максимальное значения оси `y` —  `[\"2019-08-01\", '2019-08-29', 0, 0.015]`:"
   ]
  },
  {
   "cell_type": "code",
   "execution_count": 62,
   "metadata": {},
   "outputs": [
    {
     "data": {
      "image/png": "[encoded data removed]",
      "text/plain": [
       "<Figure size 640x480 with 1 Axes>"
      ]
     },
     "metadata": {},
     "output_type": "display_data"
    }
   ],
   "source": [
    "plt.plot(cumulativeDataA['date'], cumulativeDataA['conversion'], label='A')\n",
    "plt.plot(cumulativeDataB['date'], cumulativeDataB['conversion'], label='B')\n",
    "\n",
    "plt.axis([dt.datetime(2019, 8, 1), dt.datetime(2019, 8, 30), 0, 0.05])\n",
    "\n",
    "plt.title('График кумулятивной конверсии по группам A/B-теста', fontsize=13)\n",
    "plt.xlabel('Дата', fontsize=12)\n",
    "plt.ylabel('Конверсия', fontsize=12)\n",
    "plt.xticks(rotation = 45, fontsize=9)\n",
    "plt.grid()\n",
    "plt.legend() \n",
    "\n",
    "plt.show()"
   ]
  },
  {
   "cell_type": "markdown",
   "metadata": {},
   "source": [
    "***В начале теста группа А имела несколько большее значение конверсии, чем группа В. Затем в определенный момент значение в группе А снизилось и далее стабилизировалось на уровне этого значения, а конверсия в группе В возросла и далее стабилизировалась на уровне этого более высокого значения.***"
   ]
  },
  {
   "cell_type": "markdown",
   "metadata": {},
   "source": [
    "### 1.5. Построим график относительного изменения кумулятивного среднего количества заказов на посетителя группы B к группе A и сделаем выводы."
   ]
  },
  {
   "cell_type": "markdown",
   "metadata": {},
   "source": [
    "Объединим таблицы `cumulativeDataA` и `cumulativeDataB` методом `merge()` и сохраним в переменной `mergedCumulativeConversions`:"
   ]
  },
  {
   "cell_type": "code",
   "execution_count": 66,
   "metadata": {},
   "outputs": [],
   "source": [
    "mergedCumulativeConversions = cumulativeDataA[['date','conversion']] \\\n",
    "    .merge(cumulativeDataB[['date','conversion']], left_on='date', right_on='date', how='left', suffixes=['A', 'B'])"
   ]
  },
  {
   "cell_type": "markdown",
   "metadata": {},
   "source": [
    "Далее построим необходимый график:"
   ]
  },
  {
   "cell_type": "code",
   "execution_count": 177,
   "metadata": {},
   "outputs": [
    {
     "data": {
      "image/png": "[encoded data removed]",
      "text/plain": [
       "<Figure size 640x480 with 1 Axes>"
      ]
     },
     "metadata": {},
     "output_type": "display_data"
    }
   ],
   "source": [
    "plt.plot(\n",
    "    mergedCumulativeConversions['date'], \n",
    "    mergedCumulativeConversions['conversionB']/\n",
    "    mergedCumulativeConversions['conversionA']-1 \n",
    "   )\n",
    "\n",
    "plt.title(\"График относительного изменения конверсии группы B к группе A\", fontsize=13, y=1.05)\n",
    "plt.xlabel('Дата', fontsize=12)\n",
    "plt.ylabel('Конверсия', fontsize=12)\n",
    "plt.xticks(rotation = 45, fontsize=9)\n",
    "plt.grid()\n",
    "\n",
    "plt.axhline(y=0, color='red', linestyle='--', linewidth=2)\n",
    "plt.axhline(y=0.15, color='green', linestyle='--', linewidth=2)\n",
    "\n",
    "plt.axis([dt.datetime(2019, 8, 1), dt.datetime(2019, 8, 30), -0.15, 0.25])\n",
    "\n",
    "plt.show()"
   ]
  },
  {
   "cell_type": "markdown",
   "metadata": {},
   "source": [
    "***В начале теста группа В лидировала, затем резко стала проигрывать группе А, но затем начала наращивать темп и примерно зафиксировалась на значении конверсии в 12%-13% относительно группы А.***"
   ]
  },
  {
   "cell_type": "markdown",
   "metadata": {},
   "source": [
    "### 1.6. Построим точечный график количества заказов по пользователям и сделаем выводы."
   ]
  },
  {
   "cell_type": "markdown",
   "metadata": {},
   "source": [
    "Подсчитаем количество заказов по пользователям и посмотрим на результат:"
   ]
  },
  {
   "cell_type": "code",
   "execution_count": 72,
   "metadata": {},
   "outputs": [
    {
     "data": {
      "text/html": [
       "<div>\n",
       "<style scoped>\n",
       "    .dataframe tbody tr th:only-of-type {\n",
       "        vertical-align: middle;\n",
       "    }\n",
       "\n",
       "    .dataframe tbody tr th {\n",
       "        vertical-align: top;\n",
       "    }\n",
       "\n",
       "    .dataframe thead th {\n",
       "        text-align: right;\n",
       "    }\n",
       "</style>\n",
       "<table border=\"1\" class=\"dataframe\">\n",
       "  <thead>\n",
       "    <tr style=\"text-align: right;\">\n",
       "      <th></th>\n",
       "      <th>visitor_id</th>\n",
       "      <th>orders</th>\n",
       "    </tr>\n",
       "  </thead>\n",
       "  <tbody>\n",
       "    <tr>\n",
       "      <th>1023</th>\n",
       "      <td>4256040402</td>\n",
       "      <td>11</td>\n",
       "    </tr>\n",
       "    <tr>\n",
       "      <th>591</th>\n",
       "      <td>2458001652</td>\n",
       "      <td>11</td>\n",
       "    </tr>\n",
       "    <tr>\n",
       "      <th>569</th>\n",
       "      <td>2378935119</td>\n",
       "      <td>9</td>\n",
       "    </tr>\n",
       "    <tr>\n",
       "      <th>487</th>\n",
       "      <td>2038680547</td>\n",
       "      <td>8</td>\n",
       "    </tr>\n",
       "    <tr>\n",
       "      <th>44</th>\n",
       "      <td>199603092</td>\n",
       "      <td>5</td>\n",
       "    </tr>\n",
       "    <tr>\n",
       "      <th>744</th>\n",
       "      <td>3062433592</td>\n",
       "      <td>5</td>\n",
       "    </tr>\n",
       "    <tr>\n",
       "      <th>55</th>\n",
       "      <td>237748145</td>\n",
       "      <td>5</td>\n",
       "    </tr>\n",
       "    <tr>\n",
       "      <th>917</th>\n",
       "      <td>3803269165</td>\n",
       "      <td>5</td>\n",
       "    </tr>\n",
       "    <tr>\n",
       "      <th>299</th>\n",
       "      <td>1230306981</td>\n",
       "      <td>5</td>\n",
       "    </tr>\n",
       "    <tr>\n",
       "      <th>897</th>\n",
       "      <td>3717692402</td>\n",
       "      <td>5</td>\n",
       "    </tr>\n",
       "  </tbody>\n",
       "</table>\n",
       "</div>"
      ],
      "text/plain": [
       "      visitor_id  orders\n",
       "1023  4256040402      11\n",
       "591   2458001652      11\n",
       "569   2378935119       9\n",
       "487   2038680547       8\n",
       "44     199603092       5\n",
       "744   3062433592       5\n",
       "55     237748145       5\n",
       "917   3803269165       5\n",
       "299   1230306981       5\n",
       "897   3717692402       5"
      ]
     },
     "metadata": {},
     "output_type": "display_data"
    }
   ],
   "source": [
    "ordersByUsers = (\n",
    "    orders.groupby('visitor_id', as_index=False)\n",
    "    .agg({'transaction_id': 'nunique'})\n",
    ")\n",
    "\n",
    "ordersByUsers.columns = ['visitor_id', 'orders']\n",
    "\n",
    "display(ordersByUsers.sort_values(by='orders', ascending=False).head(10))"
   ]
  },
  {
   "cell_type": "markdown",
   "metadata": {},
   "source": [
    "***Есть несколько пользователей, которые сделали больше, чем в среднем пользователь за неделю, это пользователи с 11, 9 и 8 заказами.***"
   ]
  },
  {
   "cell_type": "markdown",
   "metadata": {},
   "source": [
    "Построим гистрограмму распределения количества заказов на одного пользователя:"
   ]
  },
  {
   "cell_type": "code",
   "execution_count": 179,
   "metadata": {},
   "outputs": [
    {
     "data": {
      "image/png": "[encoded data removed]",
      "text/plain": [
       "<Figure size 640x480 with 1 Axes>"
      ]
     },
     "metadata": {},
     "output_type": "display_data"
    }
   ],
   "source": [
    "plt.hist(ordersByUsers['orders'])\n",
    "\n",
    "plt.title('Гистограмма распределения количества заказов по пользователям', fontsize=13, y=1.05)\n",
    "plt.xlabel('Количество заказов', fontsize=12)\n",
    "plt.ylabel('Количество пользователей', fontsize=12)\n",
    "plt.grid()\n",
    "\n",
    "plt.show()"
   ]
  },
  {
   "cell_type": "markdown",
   "metadata": {},
   "source": [
    "***Как мы видим, большинство пользователей сделало только один заказ, достаточно много пользователей сделало 2 или 3 заказа, но также есть и пользователи, которые сделали 10 и 11 заказов.***"
   ]
  },
  {
   "cell_type": "markdown",
   "metadata": {},
   "source": [
    "Построим точечный график числа заказов на одного пользователя:"
   ]
  },
  {
   "cell_type": "code",
   "execution_count": 78,
   "metadata": {},
   "outputs": [
    {
     "data": {
      "image/png": "[encoded data removed]",
      "text/plain": [
       "<Figure size 640x480 with 1 Axes>"
      ]
     },
     "metadata": {},
     "output_type": "display_data"
    }
   ],
   "source": [
    "x_values = pd.Series(range(0,len(ordersByUsers)))\n",
    "\n",
    "plt.scatter(x_values, ordersByUsers['orders'], alpha=0.3)\n",
    "\n",
    "plt.title('Точечный график числа заказов по пользователям', fontsize=13)\n",
    "plt.ylabel('Количество заказов', fontsize=12)\n",
    "plt.grid()\n",
    "\n",
    "plt.show()"
   ]
  },
  {
   "cell_type": "markdown",
   "metadata": {},
   "source": [
    "***Выводы подтвердились: много пользователей с 2-3 заказами. Пока непонятно, считать их аномалиями или нет.***"
   ]
  },
  {
   "cell_type": "markdown",
   "metadata": {},
   "source": [
    "### 1.7. Посчитаем 95-й и 99-й перцентили количества заказов на пользователя и выберем границу для определения аномальных пользователей."
   ]
  },
  {
   "cell_type": "code",
   "execution_count": 81,
   "metadata": {},
   "outputs": [
    {
     "name": "stdout",
     "output_type": "stream",
     "text": [
      "[2. 4.]\n"
     ]
    }
   ],
   "source": [
    "print(np.percentile(ordersByUsers['orders'], [95, 99]))"
   ]
  },
  {
   "cell_type": "markdown",
   "metadata": {},
   "source": [
    "***Не более 5% пользователей оформляли больше, чем 2 заказа, и не более 1% пользователей оформляли более, чем 4 заказа. Разумно выбрать 2 заказа на одного пользователя за верхнюю границу числа заказов, и отсеять аномальных пользователей по ней.***"
   ]
  },
  {
   "cell_type": "markdown",
   "metadata": {},
   "source": [
    "### 1.8. Построим точечный график стоимостей заказов и сделаем выводы."
   ]
  },
  {
   "cell_type": "markdown",
   "metadata": {},
   "source": [
    "Посмотрим на топ-10 самых дорогих по стоимости заказов:"
   ]
  },
  {
   "cell_type": "code",
   "execution_count": 85,
   "metadata": {},
   "outputs": [
    {
     "data": {
      "text/html": [
       "<div>\n",
       "<style scoped>\n",
       "    .dataframe tbody tr th:only-of-type {\n",
       "        vertical-align: middle;\n",
       "    }\n",
       "\n",
       "    .dataframe tbody tr th {\n",
       "        vertical-align: top;\n",
       "    }\n",
       "\n",
       "    .dataframe thead th {\n",
       "        text-align: right;\n",
       "    }\n",
       "</style>\n",
       "<table border=\"1\" class=\"dataframe\">\n",
       "  <thead>\n",
       "    <tr style=\"text-align: right;\">\n",
       "      <th></th>\n",
       "      <th>transaction_id</th>\n",
       "      <th>visitor_id</th>\n",
       "      <th>date</th>\n",
       "      <th>revenue</th>\n",
       "      <th>group</th>\n",
       "    </tr>\n",
       "  </thead>\n",
       "  <tbody>\n",
       "    <tr>\n",
       "      <th>425</th>\n",
       "      <td>590470918</td>\n",
       "      <td>1920142716</td>\n",
       "      <td>2019-08-19</td>\n",
       "      <td>1294500</td>\n",
       "      <td>B</td>\n",
       "    </tr>\n",
       "    <tr>\n",
       "      <th>1196</th>\n",
       "      <td>3936777065</td>\n",
       "      <td>2108080724</td>\n",
       "      <td>2019-08-15</td>\n",
       "      <td>202740</td>\n",
       "      <td>B</td>\n",
       "    </tr>\n",
       "    <tr>\n",
       "      <th>858</th>\n",
       "      <td>192721366</td>\n",
       "      <td>1316129916</td>\n",
       "      <td>2019-08-27</td>\n",
       "      <td>93940</td>\n",
       "      <td>A</td>\n",
       "    </tr>\n",
       "    <tr>\n",
       "      <th>1136</th>\n",
       "      <td>666610489</td>\n",
       "      <td>1307669133</td>\n",
       "      <td>2019-08-13</td>\n",
       "      <td>92550</td>\n",
       "      <td>A</td>\n",
       "    </tr>\n",
       "    <tr>\n",
       "      <th>744</th>\n",
       "      <td>3668308183</td>\n",
       "      <td>888512513</td>\n",
       "      <td>2019-08-27</td>\n",
       "      <td>86620</td>\n",
       "      <td>B</td>\n",
       "    </tr>\n",
       "    <tr>\n",
       "      <th>682</th>\n",
       "      <td>1216533772</td>\n",
       "      <td>4266935830</td>\n",
       "      <td>2019-08-29</td>\n",
       "      <td>78990</td>\n",
       "      <td>B</td>\n",
       "    </tr>\n",
       "    <tr>\n",
       "      <th>662</th>\n",
       "      <td>1811671147</td>\n",
       "      <td>4266935830</td>\n",
       "      <td>2019-08-29</td>\n",
       "      <td>78990</td>\n",
       "      <td>A</td>\n",
       "    </tr>\n",
       "    <tr>\n",
       "      <th>743</th>\n",
       "      <td>3603576309</td>\n",
       "      <td>4133034833</td>\n",
       "      <td>2019-08-09</td>\n",
       "      <td>67990</td>\n",
       "      <td>A</td>\n",
       "    </tr>\n",
       "    <tr>\n",
       "      <th>1103</th>\n",
       "      <td>1348774318</td>\n",
       "      <td>1164614297</td>\n",
       "      <td>2019-08-12</td>\n",
       "      <td>66350</td>\n",
       "      <td>A</td>\n",
       "    </tr>\n",
       "    <tr>\n",
       "      <th>1099</th>\n",
       "      <td>316924019</td>\n",
       "      <td>148427295</td>\n",
       "      <td>2019-08-12</td>\n",
       "      <td>65710</td>\n",
       "      <td>A</td>\n",
       "    </tr>\n",
       "  </tbody>\n",
       "</table>\n",
       "</div>"
      ],
      "text/plain": [
       "      transaction_id  visitor_id       date  revenue group\n",
       "425        590470918  1920142716 2019-08-19  1294500     B\n",
       "1196      3936777065  2108080724 2019-08-15   202740     B\n",
       "858        192721366  1316129916 2019-08-27    93940     A\n",
       "1136       666610489  1307669133 2019-08-13    92550     A\n",
       "744       3668308183   888512513 2019-08-27    86620     B\n",
       "682       1216533772  4266935830 2019-08-29    78990     B\n",
       "662       1811671147  4266935830 2019-08-29    78990     A\n",
       "743       3603576309  4133034833 2019-08-09    67990     A\n",
       "1103      1348774318  1164614297 2019-08-12    66350     A\n",
       "1099       316924019   148427295 2019-08-12    65710     A"
      ]
     },
     "metadata": {},
     "output_type": "display_data"
    }
   ],
   "source": [
    "display(orders.sort_values(by='revenue', ascending=False).head(10))"
   ]
  },
  {
   "cell_type": "markdown",
   "metadata": {},
   "source": [
    "Построим точечный график стоимостей заказов:"
   ]
  },
  {
   "cell_type": "code",
   "execution_count": 87,
   "metadata": {},
   "outputs": [
    {
     "data": {
      "image/png": "[encoded data removed]",
      "text/plain": [
       "<Figure size 640x480 with 1 Axes>"
      ]
     },
     "metadata": {},
     "output_type": "display_data"
    }
   ],
   "source": [
    "x_values = pd.Series(range(0,len(orders)))\n",
    "\n",
    "plt.scatter(x_values, orders['revenue'], alpha=0.3)\n",
    "\n",
    "plt.title('Точечный график стоимостей заказов', fontsize=13)\n",
    "plt.xlabel('Количество пользователей', fontsize=12)\n",
    "plt.ylabel('Стомиость заказов, Р', fontsize=12)\n",
    "\n",
    "plt.grid()\n",
    "plt.show()"
   ]
  },
  {
   "cell_type": "markdown",
   "metadata": {},
   "source": [
    "Попробуем немного изменить диапазон значений по оси y, поскольку по данному графику мало что можно понять:"
   ]
  },
  {
   "cell_type": "code",
   "execution_count": 89,
   "metadata": {},
   "outputs": [
    {
     "data": {
      "image/png": "[encoded data removed]",
      "text/plain": [
       "<Figure size 640x480 with 1 Axes>"
      ]
     },
     "metadata": {},
     "output_type": "display_data"
    }
   ],
   "source": [
    "x_values = pd.Series(range(0,len(orders)))\n",
    "\n",
    "plt.scatter(x_values, orders['revenue'], alpha=0.3)\n",
    "\n",
    "plt.title('Точечный график стоимостей заказов', fontsize=13)\n",
    "plt.xlabel('Количество пользователей', fontsize=12)\n",
    "plt.ylabel('Стомиость заказов, Р', fontsize=12)\n",
    "\n",
    "plt.ylim(0, 200000)\n",
    "\n",
    "plt.grid()\n",
    "plt.show()"
   ]
  },
  {
   "cell_type": "markdown",
   "metadata": {},
   "source": [
    "***Большинство заказов находится в пределах 30 000 р, их можно было бы принять за аномальную границу стоимости заказов, однако мы не знаем долю этих заказов от общего количества.***"
   ]
  },
  {
   "cell_type": "markdown",
   "metadata": {},
   "source": [
    "### 1.9. Посчитаем 95-й и 99-й перцентили стоимости заказов и выберем границу для определения аномальных заказов."
   ]
  },
  {
   "cell_type": "code",
   "execution_count": 92,
   "metadata": {},
   "outputs": [
    {
     "name": "stdout",
     "output_type": "stream",
     "text": [
      "[28000.  58233.2]\n"
     ]
    }
   ],
   "source": [
    "print(np.percentile(orders['revenue'], [95, 99]))"
   ]
  },
  {
   "cell_type": "markdown",
   "metadata": {},
   "source": [
    "***Получается, что не более 5% заказов стоимостью дороже 28 000 рублей, и не более 1% заказов дороже 58 233 рублей. Можно выбрать 28 000 р за верхнюю границу стоимости заказов, и отсеять аномальные значения стоимости по ней.***"
   ]
  },
  {
   "cell_type": "markdown",
   "metadata": {},
   "source": [
    "### 1.10. Посчитаем статистическую значимость различий в среднем количестве заказов на посетителя между группами по «сырым» данным и сделаем выводы."
   ]
  },
  {
   "cell_type": "markdown",
   "metadata": {},
   "source": [
    "Посчитаем статистическую значимость различий в среднем количестве заказов на посетителя по «сырым» данным — без удаления аномальных пользователей.\n",
    "\n",
    "Сформулируем гипотезы:\n",
    "\n",
    "**H₀**: различий в среднем количестве заказов между группами нет.\n",
    "\n",
    "**H₁**: различия в среднем между группами есть."
   ]
  },
  {
   "cell_type": "markdown",
   "metadata": {},
   "source": [
    "Для расчета статистической значимости различий в среднем количестве заказов между группами нам необходимо подготовить имеющиеся данные."
   ]
  },
  {
   "cell_type": "markdown",
   "metadata": {},
   "source": [
    "Нам нужны следующие столбцы:\n",
    "\n",
    "- `date` — дата;\n",
    "- `ordersPerDateA` — количество заказов в выбранную дату в группе A;\n",
    "- `revenuePerDateA` — суммарная выручка в выбранную дату в группе A;\n",
    "- `ordersPerDateB` — количество заказов в выбранную дату в группе B;\n",
    "- `revenuePerDateB` — суммарная выручка в выбранную дату в группе B;\n",
    "- `ordersCummulativeA` — суммарное число заказов до выбранной даты включительно в группе A;\n",
    "- `revenueCummulativeA` — суммарная выручка до выбранной даты включительно в группе A;\n",
    "- `ordersCummulativeB` — суммарное количество заказов до выбранной даты включительно в группе B;\n",
    "- `revenueCummulativeB` — суммарная выручка до выбранной даты включительно в группе B;\n",
    "- `visitorsPerDateA` — количество пользователей в выбранную дату в группе A;\n",
    "- `visitorsPerDateB` — количество пользователей в выбранную дату в группе B;\n",
    "- `visitorsCummulativeA` — количество пользователей до выбранной даты включительно в группе A;\n",
    "- `visitorsCummulativeB` — количество пользователей до выбранной даты включительно в группе B."
   ]
  },
  {
   "cell_type": "code",
   "execution_count": 98,
   "metadata": {},
   "outputs": [
    {
     "data": {
      "text/html": [
       "<div>\n",
       "<style scoped>\n",
       "    .dataframe tbody tr th:only-of-type {\n",
       "        vertical-align: middle;\n",
       "    }\n",
       "\n",
       "    .dataframe tbody tr th {\n",
       "        vertical-align: top;\n",
       "    }\n",
       "\n",
       "    .dataframe thead th {\n",
       "        text-align: right;\n",
       "    }\n",
       "</style>\n",
       "<table border=\"1\" class=\"dataframe\">\n",
       "  <thead>\n",
       "    <tr style=\"text-align: right;\">\n",
       "      <th></th>\n",
       "      <th>date</th>\n",
       "      <th>ordersPerDateA</th>\n",
       "      <th>revenuePerDateA</th>\n",
       "      <th>ordersPerDateB</th>\n",
       "      <th>revenuePerDateB</th>\n",
       "      <th>ordersCummulativeA</th>\n",
       "      <th>revenueCummulativeA</th>\n",
       "      <th>ordersCummulativeB</th>\n",
       "      <th>revenueCummulativeB</th>\n",
       "      <th>visitorsPerDateA</th>\n",
       "      <th>visitorsPerDateB</th>\n",
       "      <th>visitorsCummulativeA</th>\n",
       "      <th>visitorsCummulativeB</th>\n",
       "    </tr>\n",
       "  </thead>\n",
       "  <tbody>\n",
       "    <tr>\n",
       "      <th>0</th>\n",
       "      <td>2019-08-01</td>\n",
       "      <td>24</td>\n",
       "      <td>148579</td>\n",
       "      <td>21</td>\n",
       "      <td>101217</td>\n",
       "      <td>24</td>\n",
       "      <td>148579</td>\n",
       "      <td>21</td>\n",
       "      <td>101217</td>\n",
       "      <td>719</td>\n",
       "      <td>713</td>\n",
       "      <td>719</td>\n",
       "      <td>713</td>\n",
       "    </tr>\n",
       "    <tr>\n",
       "      <th>1</th>\n",
       "      <td>2019-08-02</td>\n",
       "      <td>20</td>\n",
       "      <td>93822</td>\n",
       "      <td>24</td>\n",
       "      <td>165531</td>\n",
       "      <td>44</td>\n",
       "      <td>242401</td>\n",
       "      <td>45</td>\n",
       "      <td>266748</td>\n",
       "      <td>619</td>\n",
       "      <td>581</td>\n",
       "      <td>1338</td>\n",
       "      <td>1294</td>\n",
       "    </tr>\n",
       "    <tr>\n",
       "      <th>2</th>\n",
       "      <td>2019-08-03</td>\n",
       "      <td>24</td>\n",
       "      <td>112473</td>\n",
       "      <td>16</td>\n",
       "      <td>114248</td>\n",
       "      <td>68</td>\n",
       "      <td>354874</td>\n",
       "      <td>61</td>\n",
       "      <td>380996</td>\n",
       "      <td>507</td>\n",
       "      <td>509</td>\n",
       "      <td>1845</td>\n",
       "      <td>1803</td>\n",
       "    </tr>\n",
       "    <tr>\n",
       "      <th>3</th>\n",
       "      <td>2019-08-04</td>\n",
       "      <td>16</td>\n",
       "      <td>70825</td>\n",
       "      <td>17</td>\n",
       "      <td>108571</td>\n",
       "      <td>84</td>\n",
       "      <td>425699</td>\n",
       "      <td>78</td>\n",
       "      <td>489567</td>\n",
       "      <td>717</td>\n",
       "      <td>770</td>\n",
       "      <td>2562</td>\n",
       "      <td>2573</td>\n",
       "    </tr>\n",
       "    <tr>\n",
       "      <th>4</th>\n",
       "      <td>2019-08-05</td>\n",
       "      <td>25</td>\n",
       "      <td>124218</td>\n",
       "      <td>23</td>\n",
       "      <td>92428</td>\n",
       "      <td>109</td>\n",
       "      <td>549917</td>\n",
       "      <td>101</td>\n",
       "      <td>581995</td>\n",
       "      <td>756</td>\n",
       "      <td>707</td>\n",
       "      <td>3318</td>\n",
       "      <td>3280</td>\n",
       "    </tr>\n",
       "  </tbody>\n",
       "</table>\n",
       "</div>"
      ],
      "text/plain": [
       "        date  ordersPerDateA  revenuePerDateA  ordersPerDateB  \\\n",
       "0 2019-08-01              24           148579              21   \n",
       "1 2019-08-02              20            93822              24   \n",
       "2 2019-08-03              24           112473              16   \n",
       "3 2019-08-04              16            70825              17   \n",
       "4 2019-08-05              25           124218              23   \n",
       "\n",
       "   revenuePerDateB  ordersCummulativeA  revenueCummulativeA  \\\n",
       "0           101217                  24               148579   \n",
       "1           165531                  44               242401   \n",
       "2           114248                  68               354874   \n",
       "3           108571                  84               425699   \n",
       "4            92428                 109               549917   \n",
       "\n",
       "   ordersCummulativeB  revenueCummulativeB  visitorsPerDateA  \\\n",
       "0                  21               101217               719   \n",
       "1                  45               266748               619   \n",
       "2                  61               380996               507   \n",
       "3                  78               489567               717   \n",
       "4                 101               581995               756   \n",
       "\n",
       "   visitorsPerDateB  visitorsCummulativeA  visitorsCummulativeB  \n",
       "0               713                   719                   713  \n",
       "1               581                  1338                  1294  \n",
       "2               509                  1845                  1803  \n",
       "3               770                  2562                  2573  \n",
       "4               707                  3318                  3280  "
      ]
     },
     "metadata": {},
     "output_type": "display_data"
    }
   ],
   "source": [
    "import scipy.stats as stats\n",
    "\n",
    "visitorsADaily = visitors[visitors['group'] == 'A'][['date', 'visitors']]\n",
    "visitorsADaily.columns = ['date', 'visitorsPerDateA']\n",
    "\n",
    "visitorsACummulative = visitorsADaily.apply(\n",
    "    lambda x: visitorsADaily[visitorsADaily['date'] <= x['date']].agg(\n",
    "        {'date': 'max', 'visitorsPerDateA': 'sum'}\n",
    "    ),\n",
    "    axis=1,\n",
    ")\n",
    "visitorsACummulative.columns = ['date', 'visitorsCummulativeA']\n",
    "\n",
    "visitorsBDaily = visitors[visitors['group'] == 'B'][['date', 'visitors']]\n",
    "visitorsBDaily.columns = ['date', 'visitorsPerDateB']\n",
    "\n",
    "visitorsBCummulative = visitorsBDaily.apply(\n",
    "    lambda x: visitorsBDaily[visitorsBDaily['date'] <= x['date']].agg(\n",
    "        {'date': 'max', 'visitorsPerDateB': 'sum'}\n",
    "    ),\n",
    "    axis=1,\n",
    ")\n",
    "visitorsBCummulative.columns = ['date', 'visitorsCummulativeB']\n",
    "\n",
    "ordersADaily = (\n",
    "    orders[orders['group'] == 'A'][['date', 'transaction_id', 'visitor_id', 'revenue']]\n",
    "    .groupby('date', as_index=False)\n",
    "    .agg({'transaction_id': pd.Series.nunique, 'revenue': 'sum'})\n",
    ")\n",
    "ordersADaily.columns = ['date', 'ordersPerDateA', 'revenuePerDateA']\n",
    "\n",
    "ordersACummulative = ordersADaily.apply(\n",
    "    lambda x: ordersADaily[ordersADaily['date'] <= x['date']].agg(\n",
    "        {'date': 'max', 'ordersPerDateA': 'sum', 'revenuePerDateA': 'sum'}\n",
    "    ),\n",
    "    axis=1,\n",
    ").sort_values(by=['date'])\n",
    "ordersACummulative.columns = [\n",
    "    'date',\n",
    "    'ordersCummulativeA',\n",
    "    'revenueCummulativeA',\n",
    "]\n",
    "\n",
    "ordersBDaily = (\n",
    "    orders[orders['group'] == 'B'][['date', 'transaction_id', 'visitor_id', 'revenue']]\n",
    "    .groupby('date', as_index=False)\n",
    "    .agg({'transaction_id': pd.Series.nunique, 'revenue': 'sum'})\n",
    ")\n",
    "ordersBDaily.columns = ['date', 'ordersPerDateB', 'revenuePerDateB']\n",
    "\n",
    "ordersBCummulative = ordersBDaily.apply(\n",
    "    lambda x: ordersBDaily[ordersBDaily['date'] <= x['date']].agg(\n",
    "        {'date': 'max', 'ordersPerDateB': 'sum', 'revenuePerDateB': 'sum'}\n",
    "    ),\n",
    "    axis=1,\n",
    ").sort_values(by=['date'])\n",
    "ordersBCummulative.columns = [\n",
    "    'date',\n",
    "    'ordersCummulativeB',\n",
    "    'revenueCummulativeB',\n",
    "]\n",
    "\n",
    "data = (\n",
    "    ordersADaily.merge(\n",
    "        ordersBDaily, left_on='date', right_on='date', how='left'\n",
    "    )\n",
    "    .merge(ordersACummulative, left_on='date', right_on='date', how='left')\n",
    "    .merge(ordersBCummulative, left_on='date', right_on='date', how='left')\n",
    "    .merge(visitorsADaily, left_on='date', right_on='date', how='left')\n",
    "    .merge(visitorsBDaily, left_on='date', right_on='date', how='left')\n",
    "    .merge(visitorsACummulative, left_on='date', right_on='date', how='left')\n",
    "    .merge(visitorsBCummulative, left_on='date', right_on='date', how='left')\n",
    ")\n",
    "\n",
    "display(data.head(5))"
   ]
  },
  {
   "cell_type": "markdown",
   "metadata": {},
   "source": [
    "Cоздадим переменные `ordersByUsersA` и `ordersByUsersB` со столбцами `['visitor_id', 'orders']`. В них для пользователей, которые заказывали хотя бы 1 раз, укажем число совершённых заказов."
   ]
  },
  {
   "cell_type": "code",
   "execution_count": 100,
   "metadata": {},
   "outputs": [],
   "source": [
    "ordersByUsersA = (\n",
    "    orders[orders['group'] == 'A']\n",
    "    .groupby('visitor_id', as_index=False)\n",
    "    .agg({'transaction_id': pd.Series.nunique})\n",
    ")\n",
    "ordersByUsersA.columns = ['visitor_id', 'orders']\n",
    "\n",
    "ordersByUsersB = (\n",
    "    orders[orders['group'] == 'B']\n",
    "    .groupby('visitor_id', as_index=False)\n",
    "    .agg({'transaction_id': pd.Series.nunique})\n",
    ")\n",
    "ordersByUsersB.columns = ['visitor_id', 'orders']"
   ]
  },
  {
   "cell_type": "markdown",
   "metadata": {},
   "source": [
    "Объявим переменные `sampleA` и `sampleB`, в которых пользователям из разных групп будет соответствовать количество заказов. Тем, кто ничего не заказал, будут соответствовать нули. Так мы подготовим выборки к проверке критерием Манна-Уитни."
   ]
  },
  {
   "cell_type": "code",
   "execution_count": 102,
   "metadata": {},
   "outputs": [],
   "source": [
    "sampleA = pd.concat([ordersByUsersA['orders'],\n",
    "                     pd.Series(0, index=np.arange(\n",
    "                         data['visitorsPerDateA'].sum() - len(ordersByUsersA['orders'])\n",
    "                     ), name='orders')],axis=0)\n",
    "\n",
    "sampleB = pd.concat([ordersByUsersB['orders'],\n",
    "                     pd.Series(0, index=np.arange(\n",
    "                         data['visitorsPerDateB'].sum() - len(ordersByUsersB['orders'])\n",
    "                     ), name='orders')],axis=0)"
   ]
  },
  {
   "cell_type": "markdown",
   "metadata": {},
   "source": [
    "Применим критерий и отформатируем _p-value_, округлив его до трёх знаков после запятой."
   ]
  },
  {
   "cell_type": "code",
   "execution_count": 104,
   "metadata": {},
   "outputs": [
    {
     "name": "stdout",
     "output_type": "stream",
     "text": [
      "p-value: 0.017\n",
      "Статистическая значимость различий между группами по \"сырым\" данным 0.138\n"
     ]
    }
   ],
   "source": [
    "print('p-value:', '{0:.3f}'.format(stats.mannwhitneyu(sampleA, sampleB)[1]))\n",
    "print('Статистическая значимость различий между группами по \"сырым\" данным', '{0:.3f}'.format(sampleB.mean() / sampleA.mean() - 1))"
   ]
  },
  {
   "cell_type": "markdown",
   "metadata": {},
   "source": [
    "***_P-value_ меньше 0.05. Значит, нулевую гипотезу, что различий в среднем количестве заказов между группами по \"сырым\" данным нет, можно отвергнуть. Среднее количество заказов группы B получилось больше среднего количества заказов группы A.***"
   ]
  },
  {
   "cell_type": "markdown",
   "metadata": {},
   "source": [
    "### 1.11. Посчитаем статистическую значимость различий в среднем чеке заказа между группами по «сырым» данным и сделаем выводы."
   ]
  },
  {
   "cell_type": "markdown",
   "metadata": {},
   "source": [
    "Сформулируем гипотезы:\n",
    "\n",
    "**H₀**: различий в среднем чеке между группами нет.\n",
    "\n",
    "**H₁**: различия в среднем чеке между группами есть.\n",
    "\n",
    "Чтобы рассчитать статистическую значимость различий в среднем чеке, передадим критерию `mannwhitneyu()` данные о выручке с заказов.\n",
    "\n",
    "А ещё найдём относительные различия в среднем чеке между группами:"
   ]
  },
  {
   "cell_type": "code",
   "execution_count": 108,
   "metadata": {},
   "outputs": [
    {
     "name": "stdout",
     "output_type": "stream",
     "text": [
      "p-value: 0.729\n",
      "Статистическая значимость различия в среднем чеке между группами по \"сырым\" данным 0.259\n"
     ]
    }
   ],
   "source": [
    "print('p-value:', '{0:.3f}'.format(stats.mannwhitneyu(\n",
    "    orders[orders['group']=='A']['revenue'], \n",
    "    orders[orders['group']=='B']['revenue'])[1]))\n",
    "print('Статистическая значимость различия в среднем чеке между группами по \"сырым\" данным', '{0:.3f}'.format(\n",
    "    orders[orders['group']=='B']['revenue'].mean()/\n",
    "    orders[orders['group']=='A']['revenue'].mean()-1))"
   ]
  },
  {
   "cell_type": "markdown",
   "metadata": {},
   "source": [
    "***P-value значительно больше 0.05. Значит, нулевую гипотезу, что различий в среднем чеке между группами по \"сырым\" данным нет, отвергать нет оснований. Средний чек заказов группы B получился больше среднего чека заказов группы A.***"
   ]
  },
  {
   "cell_type": "markdown",
   "metadata": {},
   "source": [
    "### 1.12. Посчитаем статистическую значимость различий в среднем количестве заказов на посетителя между группами по «очищенным» данным и сделаем выводы."
   ]
  },
  {
   "cell_type": "markdown",
   "metadata": {},
   "source": [
    "Примем за аномальных пользователей тех, кто совершил от 2 заказов или совершил заказ дороже 28 000 рублей. Так мы уберём 5% пользователей с наибольшим числом заказов и от 1% до 5% пользователей с дорогими заказами. Сделаем срезы пользователей с числом заказов больше 2 — `usersWithManyOrders` и пользователей, совершивших заказы дороже 28 000 — `usersWithExpensiveOrders`. Объединим их в таблице `abnormalUsers`.\n",
    "\n",
    "Узнаем, сколько всего аномальных пользователей атрибутом `shape`."
   ]
  },
  {
   "cell_type": "code",
   "execution_count": 112,
   "metadata": {},
   "outputs": [
    {
     "name": "stdout",
     "output_type": "stream",
     "text": [
      "1099    148427295\n",
      "18      199603092\n",
      "928     204675465\n",
      "23      237748145\n",
      "37      249864742\n",
      "Name: visitor_id, dtype: int64\n",
      "Количество аномальных пользователей: 74\n"
     ]
    }
   ],
   "source": [
    "usersWithManyOrders = pd.concat(\n",
    "    [\n",
    "        ordersByUsersA[ordersByUsersA['orders'] > int(np.percentile(ordersByUsers['orders'], [95]))]['visitor_id'],\n",
    "        ordersByUsersB[ordersByUsersB['orders'] > int(np.percentile(ordersByUsers['orders'], [95]))]['visitor_id'],\n",
    "    ],\n",
    "    axis=0,\n",
    ")\n",
    "usersWithExpensiveOrders = orders[orders['revenue'] > int(np.percentile(orders['revenue'], [95]))]['visitor_id']\n",
    "abnormalUsers = (\n",
    "    pd.concat([usersWithManyOrders, usersWithExpensiveOrders], axis=0)\n",
    "    .drop_duplicates()\n",
    "    .sort_values()\n",
    ")\n",
    "print(abnormalUsers.head(5))\n",
    "print(\"Количество аномальных пользователей:\", abnormalUsers.shape[0])"
   ]
  },
  {
   "cell_type": "markdown",
   "metadata": {},
   "source": [
    "Узнаем, как их действия повлияли на результаты теста. Посчитаем статистическую значимость различий в среднем количестве заказов между группами теста по очищенным данным. Сначала подготовим выборки количества заказов по пользователям по группам теста:"
   ]
  },
  {
   "cell_type": "code",
   "execution_count": 114,
   "metadata": {},
   "outputs": [],
   "source": [
    "sampleAFiltered = pd.concat(\n",
    "    [\n",
    "        ordersByUsersA[\n",
    "            np.logical_not(ordersByUsersA['visitor_id'].isin(abnormalUsers))\n",
    "        ]['orders'],\n",
    "        pd.Series(\n",
    "            0,\n",
    "            index=np.arange(\n",
    "                data['visitorsPerDateA'].sum() - len(ordersByUsersA['orders'])\n",
    "            ),\n",
    "            name='orders',\n",
    "        ),\n",
    "    ],\n",
    "    axis=0,\n",
    ")\n",
    "\n",
    "sampleBFiltered = pd.concat(\n",
    "    [\n",
    "        ordersByUsersB[\n",
    "            np.logical_not(ordersByUsersB['visitor_id'].isin(abnormalUsers))\n",
    "        ]['orders'],\n",
    "        pd.Series(\n",
    "            0,\n",
    "            index=np.arange(\n",
    "                data['visitorsPerDateB'].sum() - len(ordersByUsersB['orders'])\n",
    "            ),\n",
    "            name='orders',\n",
    "        ),\n",
    "    ],\n",
    "    axis=0,\n",
    ")"
   ]
  },
  {
   "cell_type": "markdown",
   "metadata": {},
   "source": [
    "Применим статистический критерий Манна-Уитни к полученным выборкам:"
   ]
  },
  {
   "cell_type": "code",
   "execution_count": 116,
   "metadata": {},
   "outputs": [
    {
     "name": "stdout",
     "output_type": "stream",
     "text": [
      "p-value: 0.013\n",
      "Статистическая значимость различий между группами по \"очищенным\" данным 0.173\n"
     ]
    }
   ],
   "source": [
    "print('p-value:', '{0:.3f}'.format(stats.mannwhitneyu(sampleAFiltered, sampleBFiltered)[1]))\n",
    "print('Статистическая значимость различий между группами по \"очищенным\" данным', '{0:.3f}'.format(sampleBFiltered.mean()/sampleAFiltered.mean()-1))"
   ]
  },
  {
   "cell_type": "markdown",
   "metadata": {},
   "source": [
    "***P-value меньше 0.05. Значит, нулевую гипотезу, что различий в среднем количестве заказов между группами по \"очищенным\" данным нет, можно отвергнуть. Среднее количество заказов группы B получилось больше среднего количества заказов группы A.***"
   ]
  },
  {
   "cell_type": "markdown",
   "metadata": {},
   "source": [
    "***P-value по \"сырым\" данным составлял 0,017, по \"очищенным\" данным - 0,013, статистическая значимость различий между группами А и В по \"сырым\" данным составляла 0,138, по \"очищенным\" данным - 0,173. Можем сделать вывод, что сильных различий между результатами по \"сырым\" и \"очищенным\" данным нет.***"
   ]
  },
  {
   "cell_type": "markdown",
   "metadata": {},
   "source": [
    "### 1.13. Посчитаем статистическую значимость различий в среднем чеке заказа между группами по «очищенным» данным и сделаем выводы."
   ]
  },
  {
   "cell_type": "markdown",
   "metadata": {},
   "source": [
    "Посмотрим, как обстоят дела с различиями в среднем чеке между группыми по \"очищенным\" данным:"
   ]
  },
  {
   "cell_type": "code",
   "execution_count": 121,
   "metadata": {},
   "outputs": [
    {
     "name": "stdout",
     "output_type": "stream",
     "text": [
      "p-value: 0.738\n",
      "Статистическая значимость различия в среднем чеке между группами по \"сырым\" данным -0.020\n"
     ]
    }
   ],
   "source": [
    "print('p-value:',\n",
    "    '{0:.3f}'.format(\n",
    "        stats.mannwhitneyu(\n",
    "            orders[\n",
    "                np.logical_and(\n",
    "                    orders['group'] == 'A',\n",
    "                    np.logical_not(orders['visitor_id'].isin(abnormalUsers)),\n",
    "                )\n",
    "            ]['revenue'],\n",
    "            orders[\n",
    "                np.logical_and(\n",
    "                    orders['group'] == 'B',\n",
    "                    np.logical_not(orders['visitor_id'].isin(abnormalUsers)),\n",
    "                )\n",
    "            ]['revenue'],\n",
    "        )[1]\n",
    "    )\n",
    ")\n",
    "\n",
    "print('Статистическая значимость различия в среднем чеке между группами по \"сырым\" данным', \n",
    "    \"{0:.3f}\".format(\n",
    "        orders[\n",
    "            np.logical_and(\n",
    "                orders['group'] == 'B',\n",
    "                np.logical_not(orders['visitor_id'].isin(abnormalUsers)),\n",
    "            )\n",
    "        ]['revenue'].mean()\n",
    "        / orders[\n",
    "            np.logical_and(\n",
    "                orders['group'] == 'A',\n",
    "                np.logical_not(orders['visitor_id'].isin(abnormalUsers)),\n",
    "            )\n",
    "        ]['revenue'].mean()\n",
    "        - 1\n",
    "    )\n",
    ")"
   ]
  },
  {
   "cell_type": "markdown",
   "metadata": {},
   "source": [
    "***P-value значительно больше 0.05. Значит, нулевую гипотезу, что различий в среднем количестве заказов между группами по \"очищенным\" данным нет, отвергнуть не можем. Средний чек заказов группы B получился сильно меньше среднего чека заказов группы A.***"
   ]
  },
  {
   "cell_type": "markdown",
   "metadata": {},
   "source": [
    "***P-value по \"сырым\" данным составлял 0,729, по \"очищенным\" данным - 0,738, здесь результаты не сильно различаются.***\n",
    "\n",
    "***Однако если статистическая значимость различий в среднем чеке между группами А и В по \"сырым\" данным составляла 0.259, и средний чек группы В был больше среднего чека группы А, то по \"очищенным\" данным все наоборот, значение отрицательное - -0.020. То есть по \"очищенным\" данным средний чек группы В меньше среднего чека группы А.***"
   ]
  },
  {
   "cell_type": "markdown",
   "metadata": {},
   "source": [
    "# Общие выводы"
   ]
  },
  {
   "cell_type": "markdown",
   "metadata": {},
   "source": [
    "***Загрузка и предобработка данных:***\n",
    "\n",
    "В ходе предобработки данных мы изучили имеющиеся в нашем распоряжении данные, дубликатов и пропусков в данных нет. Столбцы с датами в двух датасетах мы приведи к корректному типу данных - `datetime`.\n",
    "\n",
    "***Приоритизация гипотез:***\n",
    "\n",
    "Мы использовали два фреймворка `ICE` и `RICE` для того, чтобы приоритизировать гипотезы, исследовали разницу двух полученных результатов, и выявили наиболее важные гипотезы:\n",
    "- Добавить форму подписки на все основные страницы, чтобы собрать базу клиентов для email-рассылок (гипотеза 8)\n",
    "- Добавить два новых канала привлечения трафика, что позволит привлекать на 30% больше пользователей (гипотеза 1)\n",
    "- Показать на главной странице баннеры с актуальными акциями и распродажами, чтобы увеличить конверсию (гипотеза 7)\n",
    "\n",
    "***Изучение результатов проведенного А/В теста:***\n",
    "\n",
    "1. Построив график кумулятивной выручки по группам, мы обратили внимание, что практически в течение всего теста выручка увеличивается равномерно, кроме резкого скачка в одной точке графика группы В, резкое увеличение количества заказов в определенный момент времени, лио резкое увеличение стоимости заказов.\n",
    "2. График кумулятивного среднего чека показал, что средний чек группы В по сравнению с группой А рос умеренно, резко скакнул вверх, однако после этого наметилась тенденция к умеренному снижению среднего чека.\n",
    "3. В начале теста группа А имела несколько большее значение среднего количества заказов на посетителя, чем группа В. Затем в определенный момент значение в группе А снизилось и стабилизировалось, а конверсия в группе В возросла и далее стабилизировалась на уровне этого более высокого значения.\n",
    "4. График относительного изменения кумулятивного среднего количества заказов на посетителя показал, что группа В после некоторого спада в начале теста начала наращивать темп и примерно зафиксировалась на значении конверсии в 12%-13% относительно группы А.\n",
    "5. Мы исследовали доли большого количества заказов на одного пользователя, в итоге получилось, что не более 5% пользователей оформляли больше, чем 2 заказа, и не более 1% пользователей оформляли более, чем 4 заказа.\n",
    "6. Мы изучили долю дорогих заказов, в итоге мы выявили, что стоимость не более 5% заказов дороже 28 000 рублей, и стоимость не более 1% заказов дороже 58 233 рублей.\n",
    "7. Есть статистически значимое различие по конверсии между группами как по \"сырым\" данным, так и после фильтрации аномалий, значения статистической значимости по \"сырым\" данным составляла 0,138, по \"очищенным\" данным - 0,173. \n",
    "8. По сырым данным нет статистически значимого различия по среднему чеку между группами. Однако после удаления аномалий статистически значимое различие есть. Значения различий в среднем чеке между группами А и В по \"сырым\" данным составляла 0.259, и средний чек группы В был больше среднего чека группы А, то по \"очищенным\" данным все наоборот, значение отрицательное - -0.020. То есть по \"очищенным\" данным средний чек группы А больше среднего чека группы В.\n",
    "\n",
    "***ВЫВОД:***\n",
    "В принципе, группа В показала значения лучше группы А, соответственно по результатам проверки среднее количество заказов в группе В увеличилось при отсутствии значимых изменений в среднем чеке. Поэтому **тест можно остановить и признать успешным**, поскольку наша цель была - проверить увеличение выручки. Увеличение выручки при таких условиях произошло."
   ]
  }
 ],
 "metadata": {
  "ExecuteTimeLog": [
   {
    "duration": 1096,
    "start_time": "2025-03-11T00:22:20.149Z"
   },
   {
    "duration": 16,
    "start_time": "2025-03-11T00:22:21.247Z"
   },
   {
    "duration": 38,
    "start_time": "2025-03-11T00:22:21.265Z"
   },
   {
    "duration": 17,
    "start_time": "2025-03-11T00:22:21.305Z"
   },
   {
    "duration": 4,
    "start_time": "2025-03-11T00:22:21.324Z"
   },
   {
    "duration": 40,
    "start_time": "2025-03-11T00:22:21.329Z"
   },
   {
    "duration": 7,
    "start_time": "2025-03-11T00:22:21.371Z"
   },
   {
    "duration": 41,
    "start_time": "2025-03-11T00:22:21.380Z"
   },
   {
    "duration": 7,
    "start_time": "2025-03-11T00:22:21.422Z"
   },
   {
    "duration": 33,
    "start_time": "2025-03-11T00:22:21.431Z"
   },
   {
    "duration": 78,
    "start_time": "2025-03-11T00:22:21.465Z"
   },
   {
    "duration": 29,
    "start_time": "2025-03-11T00:22:21.544Z"
   },
   {
    "duration": 34,
    "start_time": "2025-03-11T00:22:21.575Z"
   },
   {
    "duration": 34,
    "start_time": "2025-03-11T00:22:21.612Z"
   },
   {
    "duration": 9,
    "start_time": "2025-03-11T00:22:21.647Z"
   },
   {
    "duration": 55,
    "start_time": "2025-03-11T00:22:21.657Z"
   },
   {
    "duration": 276,
    "start_time": "2025-03-11T00:22:21.714Z"
   },
   {
    "duration": 6,
    "start_time": "2025-03-11T00:22:21.991Z"
   },
   {
    "duration": 294,
    "start_time": "2025-03-11T00:22:21.998Z"
   },
   {
    "duration": 202,
    "start_time": "2025-03-11T00:22:22.294Z"
   },
   {
    "duration": 289,
    "start_time": "2025-03-11T00:22:22.497Z"
   },
   {
    "duration": 5,
    "start_time": "2025-03-11T00:22:22.788Z"
   },
   {
    "duration": 217,
    "start_time": "2025-03-11T00:22:22.794Z"
   },
   {
    "duration": 7,
    "start_time": "2025-03-11T00:22:23.013Z"
   },
   {
    "duration": 342,
    "start_time": "2025-03-11T00:22:23.021Z"
   },
   {
    "duration": 10,
    "start_time": "2025-03-11T00:22:23.365Z"
   },
   {
    "duration": 162,
    "start_time": "2025-03-11T00:22:23.376Z"
   },
   {
    "duration": 152,
    "start_time": "2025-03-11T00:22:23.540Z"
   },
   {
    "duration": 4,
    "start_time": "2025-03-11T00:22:23.693Z"
   },
   {
    "duration": 11,
    "start_time": "2025-03-11T00:22:23.698Z"
   },
   {
    "duration": 257,
    "start_time": "2025-03-11T00:22:23.710Z"
   },
   {
    "duration": 155,
    "start_time": "2025-03-11T00:22:23.969Z"
   },
   {
    "duration": 4,
    "start_time": "2025-03-11T00:22:24.126Z"
   },
   {
    "duration": 220,
    "start_time": "2025-03-11T00:22:24.131Z"
   },
   {
    "duration": 139,
    "start_time": "2025-03-11T00:22:24.356Z"
   },
   {
    "duration": 5,
    "start_time": "2025-03-11T00:22:24.497Z"
   },
   {
    "duration": 48,
    "start_time": "2025-03-11T00:22:24.503Z"
   },
   {
    "duration": 10,
    "start_time": "2025-03-11T00:22:24.552Z"
   },
   {
    "duration": 9,
    "start_time": "2025-03-11T00:22:24.563Z"
   },
   {
    "duration": 45,
    "start_time": "2025-03-11T00:22:24.573Z"
   },
   {
    "duration": 23,
    "start_time": "2025-03-11T00:22:24.622Z"
   },
   {
    "duration": 13,
    "start_time": "2025-03-11T00:22:24.647Z"
   },
   {
    "duration": 1080,
    "start_time": "2025-03-11T00:42:48.992Z"
   },
   {
    "duration": 16,
    "start_time": "2025-03-11T00:42:50.073Z"
   },
   {
    "duration": 60,
    "start_time": "2025-03-11T00:42:50.091Z"
   },
   {
    "duration": 16,
    "start_time": "2025-03-11T00:42:50.153Z"
   },
   {
    "duration": 4,
    "start_time": "2025-03-11T00:42:50.171Z"
   },
   {
    "duration": 48,
    "start_time": "2025-03-11T00:42:50.176Z"
   },
   {
    "duration": 8,
    "start_time": "2025-03-11T00:42:50.225Z"
   },
   {
    "duration": 44,
    "start_time": "2025-03-11T00:42:50.234Z"
   },
   {
    "duration": 7,
    "start_time": "2025-03-11T00:42:50.280Z"
   },
   {
    "duration": 13,
    "start_time": "2025-03-11T00:42:50.288Z"
   },
   {
    "duration": 55,
    "start_time": "2025-03-11T00:42:50.302Z"
   },
   {
    "duration": 4,
    "start_time": "2025-03-11T00:42:50.359Z"
   },
   {
    "duration": 10,
    "start_time": "2025-03-11T00:42:50.364Z"
   },
   {
    "duration": 11,
    "start_time": "2025-03-11T00:42:50.377Z"
   },
   {
    "duration": 90,
    "start_time": "2025-03-11T00:42:50.390Z"
   },
   {
    "duration": 6,
    "start_time": "2025-03-11T00:42:50.482Z"
   },
   {
    "duration": 263,
    "start_time": "2025-03-11T00:42:50.489Z"
   },
   {
    "duration": 6,
    "start_time": "2025-03-11T00:42:50.757Z"
   },
   {
    "duration": 277,
    "start_time": "2025-03-11T00:42:50.764Z"
   },
   {
    "duration": 202,
    "start_time": "2025-03-11T00:42:51.043Z"
   },
   {
    "duration": 318,
    "start_time": "2025-03-11T00:42:51.246Z"
   },
   {
    "duration": 6,
    "start_time": "2025-03-11T00:42:51.565Z"
   },
   {
    "duration": 250,
    "start_time": "2025-03-11T00:42:51.572Z"
   },
   {
    "duration": 7,
    "start_time": "2025-03-11T00:42:51.824Z"
   },
   {
    "duration": 315,
    "start_time": "2025-03-11T00:42:51.832Z"
   },
   {
    "duration": 10,
    "start_time": "2025-03-11T00:42:52.156Z"
   },
   {
    "duration": 155,
    "start_time": "2025-03-11T00:42:52.167Z"
   },
   {
    "duration": 151,
    "start_time": "2025-03-11T00:42:52.324Z"
   },
   {
    "duration": 4,
    "start_time": "2025-03-11T00:42:52.477Z"
   },
   {
    "duration": 47,
    "start_time": "2025-03-11T00:42:52.482Z"
   },
   {
    "duration": 271,
    "start_time": "2025-03-11T00:42:52.531Z"
   },
   {
    "duration": 168,
    "start_time": "2025-03-11T00:42:52.804Z"
   },
   {
    "duration": 4,
    "start_time": "2025-03-11T00:42:52.974Z"
   },
   {
    "duration": 223,
    "start_time": "2025-03-11T00:42:52.980Z"
   },
   {
    "duration": 143,
    "start_time": "2025-03-11T00:42:53.205Z"
   },
   {
    "duration": 11,
    "start_time": "2025-03-11T00:42:53.350Z"
   },
   {
    "duration": 24,
    "start_time": "2025-03-11T00:42:53.363Z"
   },
   {
    "duration": 11,
    "start_time": "2025-03-11T00:42:53.389Z"
   },
   {
    "duration": 9,
    "start_time": "2025-03-11T00:42:53.401Z"
   },
   {
    "duration": 25,
    "start_time": "2025-03-11T00:42:53.412Z"
   },
   {
    "duration": 24,
    "start_time": "2025-03-11T00:42:53.456Z"
   },
   {
    "duration": 14,
    "start_time": "2025-03-11T00:42:53.482Z"
   },
   {
    "duration": 1133,
    "start_time": "2025-03-11T00:54:24.921Z"
   },
   {
    "duration": 17,
    "start_time": "2025-03-11T00:54:26.057Z"
   },
   {
    "duration": 67,
    "start_time": "2025-03-11T00:54:26.075Z"
   },
   {
    "duration": 41,
    "start_time": "2025-03-11T00:54:26.144Z"
   },
   {
    "duration": 4,
    "start_time": "2025-03-11T00:54:26.186Z"
   },
   {
    "duration": 50,
    "start_time": "2025-03-11T00:54:26.191Z"
   },
   {
    "duration": 7,
    "start_time": "2025-03-11T00:54:26.242Z"
   },
   {
    "duration": 53,
    "start_time": "2025-03-11T00:54:26.251Z"
   },
   {
    "duration": 7,
    "start_time": "2025-03-11T00:54:26.305Z"
   },
   {
    "duration": 25,
    "start_time": "2025-03-11T00:54:26.314Z"
   },
   {
    "duration": 41,
    "start_time": "2025-03-11T00:54:26.340Z"
   },
   {
    "duration": 4,
    "start_time": "2025-03-11T00:54:26.383Z"
   },
   {
    "duration": 8,
    "start_time": "2025-03-11T00:54:26.388Z"
   },
   {
    "duration": 15,
    "start_time": "2025-03-11T00:54:26.397Z"
   },
   {
    "duration": 35,
    "start_time": "2025-03-11T00:54:26.413Z"
   },
   {
    "duration": 80,
    "start_time": "2025-03-11T00:54:26.449Z"
   },
   {
    "duration": 257,
    "start_time": "2025-03-11T00:54:26.531Z"
   },
   {
    "duration": 5,
    "start_time": "2025-03-11T00:54:26.790Z"
   },
   {
    "duration": 280,
    "start_time": "2025-03-11T00:54:26.797Z"
   },
   {
    "duration": 200,
    "start_time": "2025-03-11T00:54:27.078Z"
   },
   {
    "duration": 313,
    "start_time": "2025-03-11T00:54:27.279Z"
   },
   {
    "duration": 5,
    "start_time": "2025-03-11T00:54:27.594Z"
   },
   {
    "duration": 256,
    "start_time": "2025-03-11T00:54:27.600Z"
   },
   {
    "duration": 8,
    "start_time": "2025-03-11T00:54:27.857Z"
   },
   {
    "duration": 324,
    "start_time": "2025-03-11T00:54:27.866Z"
   },
   {
    "duration": 9,
    "start_time": "2025-03-11T00:54:28.192Z"
   },
   {
    "duration": 152,
    "start_time": "2025-03-11T00:54:28.203Z"
   },
   {
    "duration": 150,
    "start_time": "2025-03-11T00:54:28.358Z"
   },
   {
    "duration": 4,
    "start_time": "2025-03-11T00:54:28.510Z"
   },
   {
    "duration": 11,
    "start_time": "2025-03-11T00:54:28.515Z"
   },
   {
    "duration": 254,
    "start_time": "2025-03-11T00:54:28.527Z"
   },
   {
    "duration": 174,
    "start_time": "2025-03-11T00:54:28.783Z"
   },
   {
    "duration": 4,
    "start_time": "2025-03-11T00:54:28.959Z"
   },
   {
    "duration": 220,
    "start_time": "2025-03-11T00:54:28.965Z"
   },
   {
    "duration": 141,
    "start_time": "2025-03-11T00:54:29.187Z"
   },
   {
    "duration": 5,
    "start_time": "2025-03-11T00:54:29.330Z"
   },
   {
    "duration": 41,
    "start_time": "2025-03-11T00:54:29.337Z"
   },
   {
    "duration": 11,
    "start_time": "2025-03-11T00:54:29.380Z"
   },
   {
    "duration": 8,
    "start_time": "2025-03-11T00:54:29.393Z"
   },
   {
    "duration": 34,
    "start_time": "2025-03-11T00:54:29.402Z"
   },
   {
    "duration": 33,
    "start_time": "2025-03-11T00:54:29.438Z"
   },
   {
    "duration": 13,
    "start_time": "2025-03-11T00:54:29.473Z"
   },
   {
    "duration": 1419,
    "start_time": "2025-03-11T15:11:51.949Z"
   },
   {
    "duration": 18,
    "start_time": "2025-03-11T15:11:56.787Z"
   },
   {
    "duration": 39,
    "start_time": "2025-03-11T15:11:57.875Z"
   },
   {
    "duration": 17,
    "start_time": "2025-03-11T15:11:58.179Z"
   },
   {
    "duration": 4,
    "start_time": "2025-03-11T15:12:01.363Z"
   },
   {
    "duration": 51,
    "start_time": "2025-03-11T15:12:05.096Z"
   },
   {
    "duration": 9,
    "start_time": "2025-03-11T15:12:12.187Z"
   },
   {
    "duration": 36,
    "start_time": "2025-03-11T15:12:46.020Z"
   },
   {
    "duration": 9,
    "start_time": "2025-03-11T15:12:51.063Z"
   },
   {
    "duration": 14,
    "start_time": "2025-03-11T15:12:55.935Z"
   },
   {
    "duration": 8,
    "start_time": "2025-03-11T15:28:32.222Z"
   },
   {
    "duration": 8,
    "start_time": "2025-03-11T15:42:52.427Z"
   },
   {
    "duration": 8,
    "start_time": "2025-03-11T15:42:53.443Z"
   },
   {
    "duration": 8,
    "start_time": "2025-03-11T15:44:05.558Z"
   },
   {
    "duration": 3,
    "start_time": "2025-03-11T15:44:14.625Z"
   },
   {
    "duration": 16,
    "start_time": "2025-03-11T15:44:15.730Z"
   },
   {
    "duration": 38,
    "start_time": "2025-03-11T15:44:15.914Z"
   },
   {
    "duration": 16,
    "start_time": "2025-03-11T15:44:16.098Z"
   },
   {
    "duration": 4,
    "start_time": "2025-03-11T15:44:17.346Z"
   },
   {
    "duration": 31,
    "start_time": "2025-03-11T15:44:17.530Z"
   },
   {
    "duration": 8,
    "start_time": "2025-03-11T15:44:17.906Z"
   },
   {
    "duration": 33,
    "start_time": "2025-03-11T15:44:18.674Z"
   },
   {
    "duration": 8,
    "start_time": "2025-03-11T15:44:19.074Z"
   },
   {
    "duration": 13,
    "start_time": "2025-03-11T15:44:21.114Z"
   },
   {
    "duration": 8,
    "start_time": "2025-03-11T15:44:25.174Z"
   },
   {
    "duration": 6,
    "start_time": "2025-03-11T15:44:28.034Z"
   },
   {
    "duration": 28,
    "start_time": "2025-03-11T16:06:54.401Z"
   },
   {
    "duration": 5,
    "start_time": "2025-03-11T16:06:55.280Z"
   },
   {
    "duration": 8,
    "start_time": "2025-03-11T16:10:06.033Z"
   },
   {
    "duration": 2,
    "start_time": "2025-03-11T16:10:50.073Z"
   },
   {
    "duration": 16,
    "start_time": "2025-03-11T16:10:52.113Z"
   },
   {
    "duration": 39,
    "start_time": "2025-03-11T16:10:52.432Z"
   },
   {
    "duration": 16,
    "start_time": "2025-03-11T16:10:52.793Z"
   },
   {
    "duration": 3,
    "start_time": "2025-03-11T16:10:54.385Z"
   },
   {
    "duration": 34,
    "start_time": "2025-03-11T16:10:56.449Z"
   },
   {
    "duration": 8,
    "start_time": "2025-03-11T16:11:56.409Z"
   },
   {
    "duration": 35,
    "start_time": "2025-03-11T16:11:58.144Z"
   },
   {
    "duration": 8,
    "start_time": "2025-03-11T16:12:01.408Z"
   },
   {
    "duration": 19,
    "start_time": "2025-03-11T16:12:02.409Z"
   },
   {
    "duration": 8,
    "start_time": "2025-03-11T16:12:06.645Z"
   },
   {
    "duration": 7,
    "start_time": "2025-03-11T16:12:09.904Z"
   },
   {
    "duration": 24,
    "start_time": "2025-03-11T16:12:10.532Z"
   },
   {
    "duration": 5,
    "start_time": "2025-03-11T16:12:10.888Z"
   },
   {
    "duration": 7,
    "start_time": "2025-03-11T16:12:19.033Z"
   },
   {
    "duration": 13,
    "start_time": "2025-03-11T16:13:58.789Z"
   },
   {
    "duration": 12,
    "start_time": "2025-03-11T16:14:03.396Z"
   },
   {
    "duration": 6,
    "start_time": "2025-03-11T16:14:12.924Z"
   },
   {
    "duration": 271,
    "start_time": "2025-03-11T16:14:14.272Z"
   },
   {
    "duration": 7,
    "start_time": "2025-03-11T16:14:17.780Z"
   },
   {
    "duration": 306,
    "start_time": "2025-03-11T16:14:19.129Z"
   },
   {
    "duration": 214,
    "start_time": "2025-03-11T16:15:16.356Z"
   },
   {
    "duration": 366,
    "start_time": "2025-03-11T16:15:19.305Z"
   },
   {
    "duration": 8,
    "start_time": "2025-03-11T16:30:55.386Z"
   },
   {
    "duration": 221,
    "start_time": "2025-03-11T16:30:56.518Z"
   },
   {
    "duration": 8,
    "start_time": "2025-03-11T16:31:05.106Z"
   },
   {
    "duration": 295,
    "start_time": "2025-03-11T16:31:06.022Z"
   },
   {
    "duration": 14,
    "start_time": "2025-03-11T16:31:08.662Z"
   },
   {
    "duration": 150,
    "start_time": "2025-03-11T16:31:11.574Z"
   },
   {
    "duration": 1339,
    "start_time": "2025-03-11T16:32:19.402Z"
   },
   {
    "duration": 18,
    "start_time": "2025-03-11T16:32:20.743Z"
   },
   {
    "duration": 39,
    "start_time": "2025-03-11T16:32:20.762Z"
   },
   {
    "duration": 17,
    "start_time": "2025-03-11T16:32:20.802Z"
   },
   {
    "duration": 18,
    "start_time": "2025-03-11T16:32:20.821Z"
   },
   {
    "duration": 80,
    "start_time": "2025-03-11T16:32:20.840Z"
   },
   {
    "duration": 8,
    "start_time": "2025-03-11T16:32:20.921Z"
   },
   {
    "duration": 40,
    "start_time": "2025-03-11T16:32:20.930Z"
   },
   {
    "duration": 36,
    "start_time": "2025-03-11T16:32:20.972Z"
   },
   {
    "duration": 46,
    "start_time": "2025-03-11T16:32:21.010Z"
   },
   {
    "duration": 46,
    "start_time": "2025-03-11T16:32:21.058Z"
   },
   {
    "duration": 21,
    "start_time": "2025-03-11T16:32:21.106Z"
   },
   {
    "duration": 31,
    "start_time": "2025-03-11T16:32:21.128Z"
   },
   {
    "duration": 4,
    "start_time": "2025-03-11T16:32:21.163Z"
   },
   {
    "duration": 33,
    "start_time": "2025-03-11T16:32:21.169Z"
   },
   {
    "duration": 17,
    "start_time": "2025-03-11T16:32:21.204Z"
   },
   {
    "duration": 11,
    "start_time": "2025-03-11T16:32:21.222Z"
   },
   {
    "duration": 17,
    "start_time": "2025-03-11T16:32:21.234Z"
   },
   {
    "duration": 298,
    "start_time": "2025-03-11T16:32:21.253Z"
   },
   {
    "duration": 7,
    "start_time": "2025-03-11T16:32:21.552Z"
   },
   {
    "duration": 321,
    "start_time": "2025-03-11T16:32:21.561Z"
   },
   {
    "duration": 227,
    "start_time": "2025-03-11T16:32:21.884Z"
   },
   {
    "duration": 324,
    "start_time": "2025-03-11T16:32:22.112Z"
   },
   {
    "duration": 5,
    "start_time": "2025-03-11T16:32:22.438Z"
   },
   {
    "duration": 226,
    "start_time": "2025-03-11T16:32:22.445Z"
   },
   {
    "duration": 9,
    "start_time": "2025-03-11T16:32:22.673Z"
   },
   {
    "duration": 346,
    "start_time": "2025-03-11T16:32:22.684Z"
   },
   {
    "duration": 11,
    "start_time": "2025-03-11T16:32:23.032Z"
   },
   {
    "duration": 168,
    "start_time": "2025-03-11T16:32:23.045Z"
   },
   {
    "duration": 164,
    "start_time": "2025-03-11T16:32:23.215Z"
   },
   {
    "duration": 5,
    "start_time": "2025-03-11T16:32:23.381Z"
   },
   {
    "duration": 22,
    "start_time": "2025-03-11T16:32:23.388Z"
   },
   {
    "duration": 268,
    "start_time": "2025-03-11T16:32:23.412Z"
   },
   {
    "duration": 194,
    "start_time": "2025-03-11T16:32:23.682Z"
   },
   {
    "duration": 4,
    "start_time": "2025-03-11T16:32:23.878Z"
   },
   {
    "duration": 215,
    "start_time": "2025-03-11T16:32:23.884Z"
   },
   {
    "duration": 137,
    "start_time": "2025-03-11T16:32:24.104Z"
   },
   {
    "duration": 7,
    "start_time": "2025-03-11T16:32:24.243Z"
   },
   {
    "duration": 26,
    "start_time": "2025-03-11T16:32:24.251Z"
   },
   {
    "duration": 33,
    "start_time": "2025-03-11T16:32:24.279Z"
   },
   {
    "duration": 15,
    "start_time": "2025-03-11T16:32:24.315Z"
   },
   {
    "duration": 22,
    "start_time": "2025-03-11T16:32:24.332Z"
   },
   {
    "duration": 38,
    "start_time": "2025-03-11T16:32:24.356Z"
   },
   {
    "duration": 13,
    "start_time": "2025-03-11T16:32:24.396Z"
   },
   {
    "duration": 12,
    "start_time": "2025-03-11T16:35:00.307Z"
   },
   {
    "duration": 12,
    "start_time": "2025-03-11T16:35:05.007Z"
   },
   {
    "duration": 1289,
    "start_time": "2025-03-11T16:38:44.744Z"
   },
   {
    "duration": 5,
    "start_time": "2025-03-11T16:39:52.976Z"
   },
   {
    "duration": 4,
    "start_time": "2025-03-11T16:42:00.249Z"
   },
   {
    "duration": 1260,
    "start_time": "2025-03-11T16:42:29.173Z"
   },
   {
    "duration": 17,
    "start_time": "2025-03-11T16:42:30.435Z"
   },
   {
    "duration": 46,
    "start_time": "2025-03-11T16:42:30.453Z"
   },
   {
    "duration": 17,
    "start_time": "2025-03-11T16:42:30.501Z"
   },
   {
    "duration": 4,
    "start_time": "2025-03-11T16:42:30.519Z"
   },
   {
    "duration": 55,
    "start_time": "2025-03-11T16:42:30.524Z"
   },
   {
    "duration": 10,
    "start_time": "2025-03-11T16:42:30.580Z"
   },
   {
    "duration": 68,
    "start_time": "2025-03-11T16:42:30.591Z"
   },
   {
    "duration": 13,
    "start_time": "2025-03-11T16:42:30.661Z"
   },
   {
    "duration": 21,
    "start_time": "2025-03-11T16:42:30.677Z"
   },
   {
    "duration": 52,
    "start_time": "2025-03-11T16:42:30.700Z"
   },
   {
    "duration": 3,
    "start_time": "2025-03-11T16:42:30.754Z"
   },
   {
    "duration": 57,
    "start_time": "2025-03-11T16:42:30.759Z"
   },
   {
    "duration": 7,
    "start_time": "2025-03-11T16:42:30.817Z"
   },
   {
    "duration": 28,
    "start_time": "2025-03-11T16:42:30.825Z"
   },
   {
    "duration": 23,
    "start_time": "2025-03-11T16:42:30.855Z"
   },
   {
    "duration": 13,
    "start_time": "2025-03-11T16:42:30.880Z"
   },
   {
    "duration": 7,
    "start_time": "2025-03-11T16:42:30.904Z"
   },
   {
    "duration": 318,
    "start_time": "2025-03-11T16:42:30.913Z"
   },
   {
    "duration": 7,
    "start_time": "2025-03-11T16:42:31.233Z"
   },
   {
    "duration": 306,
    "start_time": "2025-03-11T16:42:31.242Z"
   },
   {
    "duration": 227,
    "start_time": "2025-03-11T16:42:31.550Z"
   },
   {
    "duration": 374,
    "start_time": "2025-03-11T16:42:31.780Z"
   },
   {
    "duration": 6,
    "start_time": "2025-03-11T16:42:32.156Z"
   },
   {
    "duration": 228,
    "start_time": "2025-03-11T16:42:32.164Z"
   },
   {
    "duration": 15,
    "start_time": "2025-03-11T16:42:32.394Z"
   },
   {
    "duration": 397,
    "start_time": "2025-03-11T16:42:32.410Z"
   },
   {
    "duration": 11,
    "start_time": "2025-03-11T16:42:32.810Z"
   },
   {
    "duration": 4,
    "start_time": "2025-03-11T16:42:32.823Z"
   },
   {
    "duration": 383,
    "start_time": "2025-03-11T16:42:32.829Z"
   },
   {
    "duration": 319,
    "start_time": "2025-03-11T16:42:33.214Z"
   },
   {
    "duration": 3,
    "start_time": "2025-03-11T16:42:33.535Z"
   },
   {
    "duration": 71,
    "start_time": "2025-03-11T16:42:33.540Z"
   },
   {
    "duration": 525,
    "start_time": "2025-03-11T16:42:33.612Z"
   },
   {
    "duration": 213,
    "start_time": "2025-03-11T16:42:34.139Z"
   },
   {
    "duration": 4,
    "start_time": "2025-03-11T16:42:34.354Z"
   },
   {
    "duration": 230,
    "start_time": "2025-03-11T16:42:34.359Z"
   },
   {
    "duration": 139,
    "start_time": "2025-03-11T16:42:34.590Z"
   },
   {
    "duration": 6,
    "start_time": "2025-03-11T16:42:34.731Z"
   },
   {
    "duration": 27,
    "start_time": "2025-03-11T16:42:34.738Z"
   },
   {
    "duration": 10,
    "start_time": "2025-03-11T16:42:34.766Z"
   },
   {
    "duration": 34,
    "start_time": "2025-03-11T16:42:34.778Z"
   },
   {
    "duration": 22,
    "start_time": "2025-03-11T16:42:34.813Z"
   },
   {
    "duration": 25,
    "start_time": "2025-03-11T16:42:34.837Z"
   },
   {
    "duration": 13,
    "start_time": "2025-03-11T16:42:34.864Z"
   },
   {
    "duration": 28,
    "start_time": "2025-03-11T16:46:28.130Z"
   },
   {
    "duration": 347,
    "start_time": "2025-03-11T16:46:29.126Z"
   },
   {
    "duration": 3,
    "start_time": "2025-03-11T16:46:48.855Z"
   },
   {
    "duration": 16,
    "start_time": "2025-03-11T16:46:52.198Z"
   },
   {
    "duration": 39,
    "start_time": "2025-03-11T16:46:52.806Z"
   },
   {
    "duration": 16,
    "start_time": "2025-03-11T16:46:53.251Z"
   },
   {
    "duration": 4,
    "start_time": "2025-03-11T16:46:54.558Z"
   },
   {
    "duration": 35,
    "start_time": "2025-03-11T16:46:55.538Z"
   },
   {
    "duration": 9,
    "start_time": "2025-03-11T16:46:59.319Z"
   },
   {
    "duration": 37,
    "start_time": "2025-03-11T16:47:00.087Z"
   },
   {
    "duration": 9,
    "start_time": "2025-03-11T16:47:00.951Z"
   },
   {
    "duration": 13,
    "start_time": "2025-03-11T16:47:03.102Z"
   },
   {
    "duration": 8,
    "start_time": "2025-03-11T16:47:05.971Z"
   },
   {
    "duration": 2,
    "start_time": "2025-03-11T16:47:07.375Z"
   },
   {
    "duration": 27,
    "start_time": "2025-03-11T16:47:08.407Z"
   },
   {
    "duration": 6,
    "start_time": "2025-03-11T16:47:13.974Z"
   },
   {
    "duration": 8,
    "start_time": "2025-03-11T16:47:26.287Z"
   },
   {
    "duration": 12,
    "start_time": "2025-03-11T16:47:28.807Z"
   },
   {
    "duration": 15,
    "start_time": "2025-03-11T16:47:29.787Z"
   },
   {
    "duration": 6,
    "start_time": "2025-03-11T16:47:33.878Z"
   },
   {
    "duration": 275,
    "start_time": "2025-03-11T16:47:34.890Z"
   },
   {
    "duration": 6,
    "start_time": "2025-03-11T16:47:36.799Z"
   },
   {
    "duration": 220,
    "start_time": "2025-03-11T16:47:37.971Z"
   },
   {
    "duration": 214,
    "start_time": "2025-03-11T16:47:40.851Z"
   },
   {
    "duration": 294,
    "start_time": "2025-03-11T16:47:43.554Z"
   },
   {
    "duration": 5,
    "start_time": "2025-03-11T16:47:46.987Z"
   },
   {
    "duration": 204,
    "start_time": "2025-03-11T16:47:48.251Z"
   },
   {
    "duration": 8,
    "start_time": "2025-03-11T16:47:51.047Z"
   },
   {
    "duration": 342,
    "start_time": "2025-03-11T16:47:52.579Z"
   },
   {
    "duration": 11,
    "start_time": "2025-03-11T16:48:00.271Z"
   },
   {
    "duration": 161,
    "start_time": "2025-03-11T16:48:10.255Z"
   },
   {
    "duration": 155,
    "start_time": "2025-03-11T16:48:18.671Z"
   },
   {
    "duration": 4,
    "start_time": "2025-03-11T16:48:25.679Z"
   },
   {
    "duration": 10,
    "start_time": "2025-03-11T16:48:32.999Z"
   },
   {
    "duration": 191,
    "start_time": "2025-03-11T16:48:34.070Z"
   },
   {
    "duration": 260,
    "start_time": "2025-03-11T16:48:36.467Z"
   },
   {
    "duration": 5,
    "start_time": "2025-03-11T16:48:45.155Z"
   },
   {
    "duration": 224,
    "start_time": "2025-03-11T16:48:49.874Z"
   },
   {
    "duration": 145,
    "start_time": "2025-03-11T16:48:51.063Z"
   },
   {
    "duration": 7,
    "start_time": "2025-03-11T16:48:52.735Z"
   },
   {
    "duration": 24,
    "start_time": "2025-03-11T16:48:54.063Z"
   },
   {
    "duration": 11,
    "start_time": "2025-03-11T16:49:12.715Z"
   },
   {
    "duration": 10,
    "start_time": "2025-03-11T16:49:28.071Z"
   },
   {
    "duration": 4,
    "start_time": "2025-03-11T16:49:57.107Z"
   },
   {
    "duration": 5,
    "start_time": "2025-03-11T16:50:52.959Z"
   },
   {
    "duration": 5,
    "start_time": "2025-03-11T16:50:56.651Z"
   },
   {
    "duration": 13,
    "start_time": "2025-03-11T16:51:19.767Z"
   },
   {
    "duration": 8,
    "start_time": "2025-03-11T16:53:00.658Z"
   },
   {
    "duration": 25,
    "start_time": "2025-03-11T16:53:02.034Z"
   },
   {
    "duration": 14,
    "start_time": "2025-03-11T16:53:29.413Z"
   },
   {
    "duration": 1186,
    "start_time": "2025-03-12T09:34:52.808Z"
   },
   {
    "duration": 17,
    "start_time": "2025-03-12T09:34:53.996Z"
   },
   {
    "duration": 38,
    "start_time": "2025-03-12T09:34:54.014Z"
   },
   {
    "duration": 17,
    "start_time": "2025-03-12T09:34:54.054Z"
   },
   {
    "duration": 4,
    "start_time": "2025-03-12T09:34:54.073Z"
   },
   {
    "duration": 56,
    "start_time": "2025-03-12T09:34:54.078Z"
   },
   {
    "duration": 8,
    "start_time": "2025-03-12T09:34:54.136Z"
   },
   {
    "duration": 43,
    "start_time": "2025-03-12T09:34:54.146Z"
   },
   {
    "duration": 8,
    "start_time": "2025-03-12T09:34:54.190Z"
   },
   {
    "duration": 13,
    "start_time": "2025-03-12T09:34:54.201Z"
   },
   {
    "duration": 8,
    "start_time": "2025-03-12T09:34:54.216Z"
   },
   {
    "duration": 2,
    "start_time": "2025-03-12T09:34:54.227Z"
   },
   {
    "duration": 28,
    "start_time": "2025-03-12T09:34:54.259Z"
   },
   {
    "duration": 5,
    "start_time": "2025-03-12T09:34:54.289Z"
   },
   {
    "duration": 17,
    "start_time": "2025-03-12T09:34:54.296Z"
   },
   {
    "duration": 21,
    "start_time": "2025-03-12T09:34:54.314Z"
   },
   {
    "duration": 33,
    "start_time": "2025-03-12T09:34:54.336Z"
   },
   {
    "duration": 6,
    "start_time": "2025-03-12T09:34:54.370Z"
   },
   {
    "duration": 318,
    "start_time": "2025-03-12T09:34:54.378Z"
   },
   {
    "duration": 6,
    "start_time": "2025-03-12T09:34:54.698Z"
   },
   {
    "duration": 321,
    "start_time": "2025-03-12T09:34:54.706Z"
   },
   {
    "duration": 257,
    "start_time": "2025-03-12T09:34:55.028Z"
   },
   {
    "duration": 322,
    "start_time": "2025-03-12T09:34:55.287Z"
   },
   {
    "duration": 6,
    "start_time": "2025-03-12T09:34:55.610Z"
   },
   {
    "duration": 215,
    "start_time": "2025-03-12T09:34:55.617Z"
   },
   {
    "duration": 8,
    "start_time": "2025-03-12T09:34:55.834Z"
   },
   {
    "duration": 339,
    "start_time": "2025-03-12T09:34:55.843Z"
   },
   {
    "duration": 11,
    "start_time": "2025-03-12T09:34:56.185Z"
   },
   {
    "duration": 179,
    "start_time": "2025-03-12T09:34:56.197Z"
   },
   {
    "duration": 178,
    "start_time": "2025-03-12T09:34:56.377Z"
   },
   {
    "duration": 4,
    "start_time": "2025-03-12T09:34:56.557Z"
   },
   {
    "duration": 18,
    "start_time": "2025-03-12T09:34:56.563Z"
   },
   {
    "duration": 276,
    "start_time": "2025-03-12T09:34:56.582Z"
   },
   {
    "duration": 182,
    "start_time": "2025-03-12T09:34:56.860Z"
   },
   {
    "duration": 17,
    "start_time": "2025-03-12T09:34:57.044Z"
   },
   {
    "duration": 296,
    "start_time": "2025-03-12T09:34:57.063Z"
   },
   {
    "duration": 168,
    "start_time": "2025-03-12T09:34:57.360Z"
   },
   {
    "duration": 7,
    "start_time": "2025-03-12T09:34:57.529Z"
   },
   {
    "duration": 40,
    "start_time": "2025-03-12T09:34:57.537Z"
   },
   {
    "duration": 12,
    "start_time": "2025-03-12T09:34:57.578Z"
   },
   {
    "duration": 10,
    "start_time": "2025-03-12T09:34:57.591Z"
   },
   {
    "duration": 9,
    "start_time": "2025-03-12T09:34:57.603Z"
   },
   {
    "duration": 54,
    "start_time": "2025-03-12T09:34:57.614Z"
   },
   {
    "duration": 16,
    "start_time": "2025-03-12T09:34:57.670Z"
   },
   {
    "duration": 1274,
    "start_time": "2025-03-12T09:45:51.352Z"
   },
   {
    "duration": 18,
    "start_time": "2025-03-12T09:45:52.628Z"
   },
   {
    "duration": 96,
    "start_time": "2025-03-12T09:45:52.648Z"
   },
   {
    "duration": 19,
    "start_time": "2025-03-12T09:45:52.746Z"
   },
   {
    "duration": 6,
    "start_time": "2025-03-12T09:45:52.769Z"
   },
   {
    "duration": 43,
    "start_time": "2025-03-12T09:45:52.777Z"
   },
   {
    "duration": 8,
    "start_time": "2025-03-12T09:45:52.822Z"
   },
   {
    "duration": 67,
    "start_time": "2025-03-12T09:45:52.832Z"
   },
   {
    "duration": 9,
    "start_time": "2025-03-12T09:45:52.900Z"
   },
   {
    "duration": 13,
    "start_time": "2025-03-12T09:45:52.910Z"
   },
   {
    "duration": 43,
    "start_time": "2025-03-12T09:45:52.925Z"
   },
   {
    "duration": 58,
    "start_time": "2025-03-12T09:45:52.971Z"
   },
   {
    "duration": 27,
    "start_time": "2025-03-12T09:45:53.031Z"
   },
   {
    "duration": 8,
    "start_time": "2025-03-12T09:45:53.063Z"
   },
   {
    "duration": 13,
    "start_time": "2025-03-12T09:45:53.074Z"
   },
   {
    "duration": 92,
    "start_time": "2025-03-12T09:45:53.089Z"
   },
   {
    "duration": 13,
    "start_time": "2025-03-12T09:45:53.183Z"
   },
   {
    "duration": 7,
    "start_time": "2025-03-12T09:45:53.198Z"
   },
   {
    "duration": 353,
    "start_time": "2025-03-12T09:45:53.206Z"
   },
   {
    "duration": 11,
    "start_time": "2025-03-12T09:45:53.562Z"
   },
   {
    "duration": 373,
    "start_time": "2025-03-12T09:45:53.578Z"
   },
   {
    "duration": 266,
    "start_time": "2025-03-12T09:45:53.953Z"
   },
   {
    "duration": 392,
    "start_time": "2025-03-12T09:45:54.221Z"
   },
   {
    "duration": 6,
    "start_time": "2025-03-12T09:45:54.614Z"
   },
   {
    "duration": 318,
    "start_time": "2025-03-12T09:45:54.622Z"
   },
   {
    "duration": 20,
    "start_time": "2025-03-12T09:45:54.942Z"
   },
   {
    "duration": 461,
    "start_time": "2025-03-12T09:45:54.965Z"
   },
   {
    "duration": 14,
    "start_time": "2025-03-12T09:45:55.428Z"
   },
   {
    "duration": 196,
    "start_time": "2025-03-12T09:45:55.444Z"
   },
   {
    "duration": 193,
    "start_time": "2025-03-12T09:45:55.642Z"
   },
   {
    "duration": 4,
    "start_time": "2025-03-12T09:45:55.838Z"
   },
   {
    "duration": 26,
    "start_time": "2025-03-12T09:45:55.843Z"
   },
   {
    "duration": 316,
    "start_time": "2025-03-12T09:45:55.872Z"
   },
   {
    "duration": 213,
    "start_time": "2025-03-12T09:45:56.190Z"
   },
   {
    "duration": 5,
    "start_time": "2025-03-12T09:45:56.405Z"
   },
   {
    "duration": 260,
    "start_time": "2025-03-12T09:45:56.413Z"
   },
   {
    "duration": 208,
    "start_time": "2025-03-12T09:45:56.676Z"
   },
   {
    "duration": 7,
    "start_time": "2025-03-12T09:45:56.886Z"
   },
   {
    "duration": 34,
    "start_time": "2025-03-12T09:45:56.895Z"
   },
   {
    "duration": 10,
    "start_time": "2025-03-12T09:45:56.931Z"
   },
   {
    "duration": 14,
    "start_time": "2025-03-12T09:45:56.957Z"
   },
   {
    "duration": 64,
    "start_time": "2025-03-12T09:45:56.973Z"
   },
   {
    "duration": 29,
    "start_time": "2025-03-12T09:45:57.039Z"
   },
   {
    "duration": 18,
    "start_time": "2025-03-12T09:45:57.070Z"
   }
  ],
  "kernelspec": {
   "display_name": "Python 3 (ipykernel)",
   "language": "python",
   "name": "python3"
  },
  "language_info": {
   "codemirror_mode": {
    "name": "ipython",
    "version": 3
   },
   "file_extension": ".py",
   "mimetype": "text/x-python",
   "name": "python",
   "nbconvert_exporter": "python",
   "pygments_lexer": "ipython3",
   "version": "3.12.7"
  },
  "toc": {
   "base_numbering": 1,
   "nav_menu": {},
   "number_sections": true,
   "sideBar": true,
   "skip_h1_title": true,
   "title_cell": "Table of Contents",
   "title_sidebar": "Contents",
   "toc_cell": false,
   "toc_position": {},
   "toc_section_display": true,
   "toc_window_display": false
  }
 },
 "nbformat": 4,
 "nbformat_minor": 4
}
